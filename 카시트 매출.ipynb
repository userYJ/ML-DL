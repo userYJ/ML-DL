{
 "cells": [
  {
   "cell_type": "markdown",
   "metadata": {
    "id": "mTt7qGUTCcFs"
   },
   "source": [
    "# 1. car seat 매출 예측"
   ]
  },
  {
   "cell_type": "markdown",
   "metadata": {
    "id": "7usNzsAVsGbi"
   },
   "source": [
    "![](https://cdn.images.express.co.uk/img/dynamic/24/590x/child-car-seat-986556.jpg?r=1532946857754)"
   ]
  },
  {
   "cell_type": "markdown",
   "metadata": {
    "id": "nKwWO4QmTzvp"
   },
   "source": [
    "* 비즈니스 상황\n",
    "    * 고객사는 국내(미국)와 국외에서 카시트를 판매하는 회사입니다.\n",
    "    * 최근 경쟁사의 공격적인 마케팅으로 매출이 감소하고 있습니다.\n",
    "    * 이를 해결하고자 여러분들에게 예측 모델링을 의뢰하였습니다.\n",
    "\n"
   ]
  },
  {
   "cell_type": "markdown",
   "metadata": {
    "id": "zYKHwYHatC4k"
   },
   "source": [
    "|\t변수명\t|\t설명\t|\t구분\t|\n",
    "|\t----\t|\t----\t|\t----\t|\n",
    "|\tSales \t|\t 각 지역 판매액(단위 : 1000달러)\t|\tTarget\t|\n",
    "|\tCompPrice \t|\t지역별 경쟁사 판매가격(달러)\t|\tfeature\t|\n",
    "|\tAdvertising \t|\t 각 지역, 회사의 광고 예산(단위 : 1000달러)\t|\tfeature\t|\n",
    "|\tPopulation \t|\t 지역 인구수(단위 : 1000명)\t|\tfeature\t|\n",
    "|\tPrice \t|\t 자사 지역별 판매가격(달러)\t|\tfeature\t|\n",
    "|\tShelveLoc \t|\t 진열상태\t|\tfeature\t|\n",
    "|\tAge \t|\t 지역 인구의 평균 연령\t|\tfeature\t|\n",
    "|\tUS \t|\t 매장이 미국에 있는지 여부\t|\tfeature\t|\n",
    "|\tUrban \t|\t 매장이 도시에 있는지 여부\t|\tfeature\t|\n",
    "|\tEducation \t|\t 평균학력수준(범주 : 11~17)\t|\tfeature\t|\n"
   ]
  },
  {
   "cell_type": "markdown",
   "metadata": {
    "id": "3cKmWSTZ8uwC"
   },
   "source": [
    "## 0.환경준비"
   ]
  },
  {
   "cell_type": "markdown",
   "metadata": {
    "id": "ryA0ffqNS44P"
   },
   "source": [
    "### 0.1 Import"
   ]
  },
  {
   "cell_type": "code",
   "execution_count": 3,
   "metadata": {
    "id": "GVvCef6A8uv6"
   },
   "outputs": [],
   "source": [
    "# 기본 라이브러리 가져오기\n",
    "import pandas as pd\n",
    "import numpy as np\n",
    "\n",
    "import matplotlib.pyplot as plt\n",
    "import seaborn as sns\n",
    "\n",
    "from sklearn.model_selection import train_test_split    "
   ]
  },
  {
   "cell_type": "markdown",
   "metadata": {
    "id": "4uZziFNcsUmw"
   },
   "source": [
    "### 0.2 Data Loading"
   ]
  },
  {
   "cell_type": "code",
   "execution_count": 4,
   "metadata": {
    "id": "QG28HshT8SfH"
   },
   "outputs": [
    {
     "data": {
      "text/html": [
       "<div>\n",
       "<style scoped>\n",
       "    .dataframe tbody tr th:only-of-type {\n",
       "        vertical-align: middle;\n",
       "    }\n",
       "\n",
       "    .dataframe tbody tr th {\n",
       "        vertical-align: top;\n",
       "    }\n",
       "\n",
       "    .dataframe thead th {\n",
       "        text-align: right;\n",
       "    }\n",
       "</style>\n",
       "<table border=\"1\" class=\"dataframe\">\n",
       "  <thead>\n",
       "    <tr style=\"text-align: right;\">\n",
       "      <th></th>\n",
       "      <th>Sales</th>\n",
       "      <th>CompPrice</th>\n",
       "      <th>Income</th>\n",
       "      <th>Advertising</th>\n",
       "      <th>Population</th>\n",
       "      <th>Price</th>\n",
       "      <th>ShelveLoc</th>\n",
       "      <th>Age</th>\n",
       "      <th>Education</th>\n",
       "      <th>Urban</th>\n",
       "      <th>US</th>\n",
       "    </tr>\n",
       "  </thead>\n",
       "  <tbody>\n",
       "    <tr>\n",
       "      <th>0</th>\n",
       "      <td>3.72</td>\n",
       "      <td>139.0</td>\n",
       "      <td>111.0</td>\n",
       "      <td>5</td>\n",
       "      <td>310</td>\n",
       "      <td>132</td>\n",
       "      <td>Bad</td>\n",
       "      <td>62</td>\n",
       "      <td>13</td>\n",
       "      <td>Yes</td>\n",
       "      <td>Yes</td>\n",
       "    </tr>\n",
       "    <tr>\n",
       "      <th>1</th>\n",
       "      <td>2.93</td>\n",
       "      <td>143.0</td>\n",
       "      <td>21.0</td>\n",
       "      <td>5</td>\n",
       "      <td>81</td>\n",
       "      <td>160</td>\n",
       "      <td>Medium</td>\n",
       "      <td>67</td>\n",
       "      <td>12</td>\n",
       "      <td>No</td>\n",
       "      <td>Yes</td>\n",
       "    </tr>\n",
       "    <tr>\n",
       "      <th>2</th>\n",
       "      <td>4.53</td>\n",
       "      <td>114.0</td>\n",
       "      <td>NaN</td>\n",
       "      <td>0</td>\n",
       "      <td>97</td>\n",
       "      <td>125</td>\n",
       "      <td>Medium</td>\n",
       "      <td>29</td>\n",
       "      <td>12</td>\n",
       "      <td>Yes</td>\n",
       "      <td>No</td>\n",
       "    </tr>\n",
       "    <tr>\n",
       "      <th>3</th>\n",
       "      <td>8.47</td>\n",
       "      <td>119.0</td>\n",
       "      <td>88.0</td>\n",
       "      <td>10</td>\n",
       "      <td>170</td>\n",
       "      <td>101</td>\n",
       "      <td>Medium</td>\n",
       "      <td>61</td>\n",
       "      <td>13</td>\n",
       "      <td>Yes</td>\n",
       "      <td>Yes</td>\n",
       "    </tr>\n",
       "    <tr>\n",
       "      <th>4</th>\n",
       "      <td>11.85</td>\n",
       "      <td>136.0</td>\n",
       "      <td>81.0</td>\n",
       "      <td>15</td>\n",
       "      <td>425</td>\n",
       "      <td>120</td>\n",
       "      <td>Good</td>\n",
       "      <td>67</td>\n",
       "      <td>10</td>\n",
       "      <td>Yes</td>\n",
       "      <td>Yes</td>\n",
       "    </tr>\n",
       "  </tbody>\n",
       "</table>\n",
       "</div>"
      ],
      "text/plain": [
       "   Sales  CompPrice  Income  Advertising  Population  Price ShelveLoc  Age  \\\n",
       "0   3.72      139.0   111.0            5         310    132       Bad   62   \n",
       "1   2.93      143.0    21.0            5          81    160    Medium   67   \n",
       "2   4.53      114.0     NaN            0          97    125    Medium   29   \n",
       "3   8.47      119.0    88.0           10         170    101    Medium   61   \n",
       "4  11.85      136.0    81.0           15         425    120      Good   67   \n",
       "\n",
       "   Education Urban   US  \n",
       "0         13   Yes  Yes  \n",
       "1         12    No  Yes  \n",
       "2         12   Yes   No  \n",
       "3         13   Yes  Yes  \n",
       "4         10   Yes  Yes  "
      ]
     },
     "execution_count": 4,
     "metadata": {},
     "output_type": "execute_result"
    }
   ],
   "source": [
    "path = 'https://raw.githubusercontent.com/DA4BAM/dataset/master/Carseat_train.csv'\n",
    "data = pd.read_csv(path)\n",
    "data.head()"
   ]
  },
  {
   "cell_type": "code",
   "execution_count": 5,
   "metadata": {
    "id": "vHny68G6ws_H"
   },
   "outputs": [
    {
     "data": {
      "text/html": [
       "<div>\n",
       "<style scoped>\n",
       "    .dataframe tbody tr th:only-of-type {\n",
       "        vertical-align: middle;\n",
       "    }\n",
       "\n",
       "    .dataframe tbody tr th {\n",
       "        vertical-align: top;\n",
       "    }\n",
       "\n",
       "    .dataframe thead th {\n",
       "        text-align: right;\n",
       "    }\n",
       "</style>\n",
       "<table border=\"1\" class=\"dataframe\">\n",
       "  <thead>\n",
       "    <tr style=\"text-align: right;\">\n",
       "      <th></th>\n",
       "      <th>CompPrice</th>\n",
       "      <th>Income</th>\n",
       "      <th>Advertising</th>\n",
       "      <th>Population</th>\n",
       "      <th>Price</th>\n",
       "      <th>ShelveLoc</th>\n",
       "      <th>Age</th>\n",
       "      <th>Education</th>\n",
       "      <th>Urban</th>\n",
       "      <th>US</th>\n",
       "    </tr>\n",
       "  </thead>\n",
       "  <tbody>\n",
       "    <tr>\n",
       "      <th>0</th>\n",
       "      <td>131.0</td>\n",
       "      <td>111.0</td>\n",
       "      <td>13</td>\n",
       "      <td>33</td>\n",
       "      <td>80</td>\n",
       "      <td>Bad</td>\n",
       "      <td>68</td>\n",
       "      <td>18</td>\n",
       "      <td>Yes</td>\n",
       "      <td>Yes</td>\n",
       "    </tr>\n",
       "    <tr>\n",
       "      <th>1</th>\n",
       "      <td>123.0</td>\n",
       "      <td>57.0</td>\n",
       "      <td>0</td>\n",
       "      <td>66</td>\n",
       "      <td>105</td>\n",
       "      <td>Medium</td>\n",
       "      <td>39</td>\n",
       "      <td>11</td>\n",
       "      <td>Yes</td>\n",
       "      <td>No</td>\n",
       "    </tr>\n",
       "    <tr>\n",
       "      <th>2</th>\n",
       "      <td>136.0</td>\n",
       "      <td>60.0</td>\n",
       "      <td>7</td>\n",
       "      <td>303</td>\n",
       "      <td>147</td>\n",
       "      <td>Medium</td>\n",
       "      <td>41</td>\n",
       "      <td>10</td>\n",
       "      <td>Yes</td>\n",
       "      <td>Yes</td>\n",
       "    </tr>\n",
       "    <tr>\n",
       "      <th>3</th>\n",
       "      <td>143.0</td>\n",
       "      <td>77.0</td>\n",
       "      <td>25</td>\n",
       "      <td>448</td>\n",
       "      <td>156</td>\n",
       "      <td>Medium</td>\n",
       "      <td>43</td>\n",
       "      <td>17</td>\n",
       "      <td>Yes</td>\n",
       "      <td>Yes</td>\n",
       "    </tr>\n",
       "    <tr>\n",
       "      <th>4</th>\n",
       "      <td>111.0</td>\n",
       "      <td>75.0</td>\n",
       "      <td>1</td>\n",
       "      <td>377</td>\n",
       "      <td>108</td>\n",
       "      <td>Good</td>\n",
       "      <td>25</td>\n",
       "      <td>12</td>\n",
       "      <td>Yes</td>\n",
       "      <td>No</td>\n",
       "    </tr>\n",
       "  </tbody>\n",
       "</table>\n",
       "</div>"
      ],
      "text/plain": [
       "   CompPrice  Income  Advertising  Population  Price ShelveLoc  Age  \\\n",
       "0      131.0   111.0           13          33     80       Bad   68   \n",
       "1      123.0    57.0            0          66    105    Medium   39   \n",
       "2      136.0    60.0            7         303    147    Medium   41   \n",
       "3      143.0    77.0           25         448    156    Medium   43   \n",
       "4      111.0    75.0            1         377    108      Good   25   \n",
       "\n",
       "   Education Urban   US  \n",
       "0         18   Yes  Yes  \n",
       "1         11   Yes   No  \n",
       "2         10   Yes  Yes  \n",
       "3         17   Yes  Yes  \n",
       "4         12   Yes   No  "
      ]
     },
     "execution_count": 5,
     "metadata": {},
     "output_type": "execute_result"
    }
   ],
   "source": [
    "path = 'https://raw.githubusercontent.com/DA4BAM/dataset/master/Carseat_test_x.csv'\n",
    "\n",
    "test = pd.read_csv(path)\n",
    "test.head()"
   ]
  },
  {
   "cell_type": "markdown",
   "metadata": {
    "id": "Ge5eTWab_921"
   },
   "source": [
    "## 1.데이터 탐색"
   ]
  },
  {
   "cell_type": "markdown",
   "metadata": {
    "id": "PRXJWyibZTJN"
   },
   "source": [
    "## 2.데이터 전처리 "
   ]
  },
  {
   "cell_type": "code",
   "execution_count": 6,
   "metadata": {
    "id": "vtn0hI98urCt"
   },
   "outputs": [],
   "source": [
    "target = 'Sales'"
   ]
  },
  {
   "cell_type": "markdown",
   "metadata": {
    "id": "umpv1ug6ZTJO"
   },
   "source": [
    "### 2.2 NaN에 대한 조치"
   ]
  },
  {
   "cell_type": "code",
   "execution_count": 7,
   "metadata": {},
   "outputs": [
    {
     "data": {
      "text/plain": [
       "Sales           0\n",
       "CompPrice      13\n",
       "Income         12\n",
       "Advertising     0\n",
       "Population      0\n",
       "Price           0\n",
       "ShelveLoc       0\n",
       "Age             0\n",
       "Education       0\n",
       "Urban           0\n",
       "US              0\n",
       "dtype: int64"
      ]
     },
     "execution_count": 7,
     "metadata": {},
     "output_type": "execute_result"
    }
   ],
   "source": [
    "data.isna().sum()"
   ]
  },
  {
   "cell_type": "code",
   "execution_count": 8,
   "metadata": {
    "id": "8epD0jT6vL51"
   },
   "outputs": [
    {
     "data": {
      "text/html": [
       "<div>\n",
       "<style scoped>\n",
       "    .dataframe tbody tr th:only-of-type {\n",
       "        vertical-align: middle;\n",
       "    }\n",
       "\n",
       "    .dataframe tbody tr th {\n",
       "        vertical-align: top;\n",
       "    }\n",
       "\n",
       "    .dataframe thead th {\n",
       "        text-align: right;\n",
       "    }\n",
       "</style>\n",
       "<table border=\"1\" class=\"dataframe\">\n",
       "  <thead>\n",
       "    <tr style=\"text-align: right;\">\n",
       "      <th></th>\n",
       "      <th>Sales</th>\n",
       "      <th>CompPrice</th>\n",
       "      <th>Income</th>\n",
       "      <th>Advertising</th>\n",
       "      <th>Population</th>\n",
       "      <th>Price</th>\n",
       "      <th>ShelveLoc</th>\n",
       "      <th>Age</th>\n",
       "      <th>Education</th>\n",
       "      <th>Urban</th>\n",
       "      <th>US</th>\n",
       "    </tr>\n",
       "  </thead>\n",
       "  <tbody>\n",
       "    <tr>\n",
       "      <th>299</th>\n",
       "      <td>10.1</td>\n",
       "      <td>135.0</td>\n",
       "      <td>63.0</td>\n",
       "      <td>15</td>\n",
       "      <td>213</td>\n",
       "      <td>134</td>\n",
       "      <td>Medium</td>\n",
       "      <td>32</td>\n",
       "      <td>10</td>\n",
       "      <td>Yes</td>\n",
       "      <td>Yes</td>\n",
       "    </tr>\n",
       "  </tbody>\n",
       "</table>\n",
       "</div>"
      ],
      "text/plain": [
       "     Sales  CompPrice  Income  Advertising  Population  Price ShelveLoc  Age  \\\n",
       "299   10.1      135.0    63.0           15         213    134    Medium   32   \n",
       "\n",
       "     Education Urban   US  \n",
       "299         10   Yes  Yes  "
      ]
     },
     "execution_count": 8,
     "metadata": {},
     "output_type": "execute_result"
    }
   ],
   "source": [
    "data.tail(1)"
   ]
  },
  {
   "cell_type": "code",
   "execution_count": 9,
   "metadata": {},
   "outputs": [
    {
     "data": {
      "text/plain": [
       "Sales          0\n",
       "CompPrice      0\n",
       "Income         0\n",
       "Advertising    0\n",
       "Population     0\n",
       "Price          0\n",
       "ShelveLoc      0\n",
       "Age            0\n",
       "Education      0\n",
       "Urban          0\n",
       "US             0\n",
       "dtype: int64"
      ]
     },
     "execution_count": 9,
     "metadata": {},
     "output_type": "execute_result"
    }
   ],
   "source": [
    "# 경쟁사가격이랑 수입이 각각 13건 12건이 있었으나 총 데이터가 300개의 셋으로 확인되어 이 결측치가 존재하는 열을 삭제해도\n",
    "# 큰영향이 없을것이라 판단되어 삭제\n",
    "data.dropna(axis=0, inplace=True) \n",
    "data.isna().sum()"
   ]
  },
  {
   "cell_type": "markdown",
   "metadata": {
    "id": "zFJ23LikV8A_"
   },
   "source": [
    "### 2.3 가변수화\n",
    "* 범주형 데이터이면서 값이 0,1 로 되어 있는 것이 아니라면, 가변수화를 수행 필요"
   ]
  },
  {
   "cell_type": "code",
   "execution_count": 10,
   "metadata": {
    "id": "ETUeL5XmV8A_"
   },
   "outputs": [
    {
     "data": {
      "text/html": [
       "<div>\n",
       "<style scoped>\n",
       "    .dataframe tbody tr th:only-of-type {\n",
       "        vertical-align: middle;\n",
       "    }\n",
       "\n",
       "    .dataframe tbody tr th {\n",
       "        vertical-align: top;\n",
       "    }\n",
       "\n",
       "    .dataframe thead th {\n",
       "        text-align: right;\n",
       "    }\n",
       "</style>\n",
       "<table border=\"1\" class=\"dataframe\">\n",
       "  <thead>\n",
       "    <tr style=\"text-align: right;\">\n",
       "      <th></th>\n",
       "      <th>Sales</th>\n",
       "      <th>CompPrice</th>\n",
       "      <th>Income</th>\n",
       "      <th>Advertising</th>\n",
       "      <th>Population</th>\n",
       "      <th>Price</th>\n",
       "      <th>ShelveLoc</th>\n",
       "      <th>Age</th>\n",
       "      <th>Education</th>\n",
       "      <th>Urban</th>\n",
       "      <th>US</th>\n",
       "    </tr>\n",
       "  </thead>\n",
       "  <tbody>\n",
       "    <tr>\n",
       "      <th>0</th>\n",
       "      <td>3.72</td>\n",
       "      <td>139.0</td>\n",
       "      <td>111.0</td>\n",
       "      <td>5</td>\n",
       "      <td>310</td>\n",
       "      <td>132</td>\n",
       "      <td>Bad</td>\n",
       "      <td>62</td>\n",
       "      <td>13</td>\n",
       "      <td>Yes</td>\n",
       "      <td>Yes</td>\n",
       "    </tr>\n",
       "    <tr>\n",
       "      <th>1</th>\n",
       "      <td>2.93</td>\n",
       "      <td>143.0</td>\n",
       "      <td>21.0</td>\n",
       "      <td>5</td>\n",
       "      <td>81</td>\n",
       "      <td>160</td>\n",
       "      <td>Medium</td>\n",
       "      <td>67</td>\n",
       "      <td>12</td>\n",
       "      <td>No</td>\n",
       "      <td>Yes</td>\n",
       "    </tr>\n",
       "    <tr>\n",
       "      <th>3</th>\n",
       "      <td>8.47</td>\n",
       "      <td>119.0</td>\n",
       "      <td>88.0</td>\n",
       "      <td>10</td>\n",
       "      <td>170</td>\n",
       "      <td>101</td>\n",
       "      <td>Medium</td>\n",
       "      <td>61</td>\n",
       "      <td>13</td>\n",
       "      <td>Yes</td>\n",
       "      <td>Yes</td>\n",
       "    </tr>\n",
       "  </tbody>\n",
       "</table>\n",
       "</div>"
      ],
      "text/plain": [
       "   Sales  CompPrice  Income  Advertising  Population  Price ShelveLoc  Age  \\\n",
       "0   3.72      139.0   111.0            5         310    132       Bad   62   \n",
       "1   2.93      143.0    21.0            5          81    160    Medium   67   \n",
       "3   8.47      119.0    88.0           10         170    101    Medium   61   \n",
       "\n",
       "   Education Urban   US  \n",
       "0         13   Yes  Yes  \n",
       "1         12    No  Yes  \n",
       "3         13   Yes  Yes  "
      ]
     },
     "execution_count": 10,
     "metadata": {},
     "output_type": "execute_result"
    }
   ],
   "source": [
    "data.head(3)"
   ]
  },
  {
   "cell_type": "code",
   "execution_count": 11,
   "metadata": {
    "id": "kbLyzF96KDuQ"
   },
   "outputs": [],
   "source": [
    "# data['Advertising'].value_counts()\n",
    "data['Education'].value_counts() # 평균학력 수준\n",
    "bins =[10, 13, 16, 18]\n",
    "data['Edu_level'] = pd.cut(data['Education'], bins = bins, labels = ['L', 'M', 'H'])"
   ]
  },
  {
   "cell_type": "code",
   "execution_count": 12,
   "metadata": {},
   "outputs": [
    {
     "data": {
      "text/html": [
       "<div>\n",
       "<style scoped>\n",
       "    .dataframe tbody tr th:only-of-type {\n",
       "        vertical-align: middle;\n",
       "    }\n",
       "\n",
       "    .dataframe tbody tr th {\n",
       "        vertical-align: top;\n",
       "    }\n",
       "\n",
       "    .dataframe thead th {\n",
       "        text-align: right;\n",
       "    }\n",
       "</style>\n",
       "<table border=\"1\" class=\"dataframe\">\n",
       "  <thead>\n",
       "    <tr style=\"text-align: right;\">\n",
       "      <th></th>\n",
       "      <th>Sales</th>\n",
       "      <th>CompPrice</th>\n",
       "      <th>Income</th>\n",
       "      <th>Advertising</th>\n",
       "      <th>Population</th>\n",
       "      <th>Price</th>\n",
       "      <th>ShelveLoc</th>\n",
       "      <th>Age</th>\n",
       "      <th>Education</th>\n",
       "      <th>Urban</th>\n",
       "      <th>US</th>\n",
       "      <th>Edu_level</th>\n",
       "    </tr>\n",
       "  </thead>\n",
       "  <tbody>\n",
       "    <tr>\n",
       "      <th>0</th>\n",
       "      <td>3.72</td>\n",
       "      <td>139.0</td>\n",
       "      <td>111.0</td>\n",
       "      <td>5</td>\n",
       "      <td>310</td>\n",
       "      <td>132</td>\n",
       "      <td>Bad</td>\n",
       "      <td>62</td>\n",
       "      <td>13</td>\n",
       "      <td>Yes</td>\n",
       "      <td>Yes</td>\n",
       "      <td>L</td>\n",
       "    </tr>\n",
       "    <tr>\n",
       "      <th>1</th>\n",
       "      <td>2.93</td>\n",
       "      <td>143.0</td>\n",
       "      <td>21.0</td>\n",
       "      <td>5</td>\n",
       "      <td>81</td>\n",
       "      <td>160</td>\n",
       "      <td>Medium</td>\n",
       "      <td>67</td>\n",
       "      <td>12</td>\n",
       "      <td>No</td>\n",
       "      <td>Yes</td>\n",
       "      <td>L</td>\n",
       "    </tr>\n",
       "    <tr>\n",
       "      <th>3</th>\n",
       "      <td>8.47</td>\n",
       "      <td>119.0</td>\n",
       "      <td>88.0</td>\n",
       "      <td>10</td>\n",
       "      <td>170</td>\n",
       "      <td>101</td>\n",
       "      <td>Medium</td>\n",
       "      <td>61</td>\n",
       "      <td>13</td>\n",
       "      <td>Yes</td>\n",
       "      <td>Yes</td>\n",
       "      <td>L</td>\n",
       "    </tr>\n",
       "  </tbody>\n",
       "</table>\n",
       "</div>"
      ],
      "text/plain": [
       "   Sales  CompPrice  Income  Advertising  Population  Price ShelveLoc  Age  \\\n",
       "0   3.72      139.0   111.0            5         310    132       Bad   62   \n",
       "1   2.93      143.0    21.0            5          81    160    Medium   67   \n",
       "3   8.47      119.0    88.0           10         170    101    Medium   61   \n",
       "\n",
       "   Education Urban   US Edu_level  \n",
       "0         13   Yes  Yes         L  \n",
       "1         12    No  Yes         L  \n",
       "3         13   Yes  Yes         L  "
      ]
     },
     "execution_count": 12,
     "metadata": {},
     "output_type": "execute_result"
    }
   ],
   "source": [
    "data.head(3)"
   ]
  },
  {
   "cell_type": "code",
   "execution_count": 13,
   "metadata": {},
   "outputs": [
    {
     "data": {
      "text/html": [
       "<div>\n",
       "<style scoped>\n",
       "    .dataframe tbody tr th:only-of-type {\n",
       "        vertical-align: middle;\n",
       "    }\n",
       "\n",
       "    .dataframe tbody tr th {\n",
       "        vertical-align: top;\n",
       "    }\n",
       "\n",
       "    .dataframe thead th {\n",
       "        text-align: right;\n",
       "    }\n",
       "</style>\n",
       "<table border=\"1\" class=\"dataframe\">\n",
       "  <thead>\n",
       "    <tr style=\"text-align: right;\">\n",
       "      <th></th>\n",
       "      <th>Sales</th>\n",
       "      <th>CompPrice</th>\n",
       "      <th>Income</th>\n",
       "      <th>Advertising</th>\n",
       "      <th>Population</th>\n",
       "      <th>Price</th>\n",
       "      <th>Age</th>\n",
       "      <th>Education</th>\n",
       "      <th>ShelveLoc_Good</th>\n",
       "      <th>ShelveLoc_Medium</th>\n",
       "      <th>Urban_Yes</th>\n",
       "      <th>US_Yes</th>\n",
       "      <th>Edu_level_M</th>\n",
       "      <th>Edu_level_H</th>\n",
       "    </tr>\n",
       "  </thead>\n",
       "  <tbody>\n",
       "    <tr>\n",
       "      <th>0</th>\n",
       "      <td>3.72</td>\n",
       "      <td>139.0</td>\n",
       "      <td>111.0</td>\n",
       "      <td>5</td>\n",
       "      <td>310</td>\n",
       "      <td>132</td>\n",
       "      <td>62</td>\n",
       "      <td>13</td>\n",
       "      <td>0</td>\n",
       "      <td>0</td>\n",
       "      <td>1</td>\n",
       "      <td>1</td>\n",
       "      <td>0</td>\n",
       "      <td>0</td>\n",
       "    </tr>\n",
       "    <tr>\n",
       "      <th>1</th>\n",
       "      <td>2.93</td>\n",
       "      <td>143.0</td>\n",
       "      <td>21.0</td>\n",
       "      <td>5</td>\n",
       "      <td>81</td>\n",
       "      <td>160</td>\n",
       "      <td>67</td>\n",
       "      <td>12</td>\n",
       "      <td>0</td>\n",
       "      <td>1</td>\n",
       "      <td>0</td>\n",
       "      <td>1</td>\n",
       "      <td>0</td>\n",
       "      <td>0</td>\n",
       "    </tr>\n",
       "    <tr>\n",
       "      <th>3</th>\n",
       "      <td>8.47</td>\n",
       "      <td>119.0</td>\n",
       "      <td>88.0</td>\n",
       "      <td>10</td>\n",
       "      <td>170</td>\n",
       "      <td>101</td>\n",
       "      <td>61</td>\n",
       "      <td>13</td>\n",
       "      <td>0</td>\n",
       "      <td>1</td>\n",
       "      <td>1</td>\n",
       "      <td>1</td>\n",
       "      <td>0</td>\n",
       "      <td>0</td>\n",
       "    </tr>\n",
       "  </tbody>\n",
       "</table>\n",
       "</div>"
      ],
      "text/plain": [
       "   Sales  CompPrice  Income  Advertising  Population  Price  Age  Education  \\\n",
       "0   3.72      139.0   111.0            5         310    132   62         13   \n",
       "1   2.93      143.0    21.0            5          81    160   67         12   \n",
       "3   8.47      119.0    88.0           10         170    101   61         13   \n",
       "\n",
       "   ShelveLoc_Good  ShelveLoc_Medium  Urban_Yes  US_Yes  Edu_level_M  \\\n",
       "0               0                 0          1       1            0   \n",
       "1               0                 1          0       1            0   \n",
       "3               0                 1          1       1            0   \n",
       "\n",
       "   Edu_level_H  \n",
       "0            0  \n",
       "1            0  \n",
       "3            0  "
      ]
     },
     "execution_count": 13,
     "metadata": {},
     "output_type": "execute_result"
    }
   ],
   "source": [
    "dummy_var = ['ShelveLoc', 'Urban', 'US','Edu_level']\n",
    "data = pd.get_dummies(data, columns=dummy_var, drop_first=True)\n",
    "data.head(3)"
   ]
  },
  {
   "cell_type": "markdown",
   "metadata": {},
   "source": [
    "### 데이터를 feature와 , target으로 분할"
   ]
  },
  {
   "cell_type": "code",
   "execution_count": 14,
   "metadata": {},
   "outputs": [],
   "source": [
    "# 가변수화 이후진행\n",
    "x = data.drop(target, axis = 1)\n",
    "y = data.loc[:, target]"
   ]
  },
  {
   "cell_type": "code",
   "execution_count": 15,
   "metadata": {},
   "outputs": [
    {
     "data": {
      "text/plain": [
       "((275, 13), (275,))"
      ]
     },
     "execution_count": 15,
     "metadata": {},
     "output_type": "execute_result"
    }
   ],
   "source": [
    "x.shape, y.shape"
   ]
  },
  {
   "cell_type": "code",
   "execution_count": 16,
   "metadata": {},
   "outputs": [
    {
     "data": {
      "text/html": [
       "<div>\n",
       "<style scoped>\n",
       "    .dataframe tbody tr th:only-of-type {\n",
       "        vertical-align: middle;\n",
       "    }\n",
       "\n",
       "    .dataframe tbody tr th {\n",
       "        vertical-align: top;\n",
       "    }\n",
       "\n",
       "    .dataframe thead th {\n",
       "        text-align: right;\n",
       "    }\n",
       "</style>\n",
       "<table border=\"1\" class=\"dataframe\">\n",
       "  <thead>\n",
       "    <tr style=\"text-align: right;\">\n",
       "      <th></th>\n",
       "      <th>CompPrice</th>\n",
       "      <th>Income</th>\n",
       "      <th>Advertising</th>\n",
       "      <th>Population</th>\n",
       "      <th>Price</th>\n",
       "      <th>Age</th>\n",
       "      <th>Education</th>\n",
       "      <th>ShelveLoc_Good</th>\n",
       "      <th>ShelveLoc_Medium</th>\n",
       "      <th>Urban_Yes</th>\n",
       "      <th>US_Yes</th>\n",
       "      <th>Edu_level_M</th>\n",
       "      <th>Edu_level_H</th>\n",
       "    </tr>\n",
       "  </thead>\n",
       "  <tbody>\n",
       "    <tr>\n",
       "      <th>0</th>\n",
       "      <td>139.0</td>\n",
       "      <td>111.0</td>\n",
       "      <td>5</td>\n",
       "      <td>310</td>\n",
       "      <td>132</td>\n",
       "      <td>62</td>\n",
       "      <td>13</td>\n",
       "      <td>0</td>\n",
       "      <td>0</td>\n",
       "      <td>1</td>\n",
       "      <td>1</td>\n",
       "      <td>0</td>\n",
       "      <td>0</td>\n",
       "    </tr>\n",
       "    <tr>\n",
       "      <th>1</th>\n",
       "      <td>143.0</td>\n",
       "      <td>21.0</td>\n",
       "      <td>5</td>\n",
       "      <td>81</td>\n",
       "      <td>160</td>\n",
       "      <td>67</td>\n",
       "      <td>12</td>\n",
       "      <td>0</td>\n",
       "      <td>1</td>\n",
       "      <td>0</td>\n",
       "      <td>1</td>\n",
       "      <td>0</td>\n",
       "      <td>0</td>\n",
       "    </tr>\n",
       "  </tbody>\n",
       "</table>\n",
       "</div>"
      ],
      "text/plain": [
       "   CompPrice  Income  Advertising  Population  Price  Age  Education  \\\n",
       "0      139.0   111.0            5         310    132   62         13   \n",
       "1      143.0    21.0            5          81    160   67         12   \n",
       "\n",
       "   ShelveLoc_Good  ShelveLoc_Medium  Urban_Yes  US_Yes  Edu_level_M  \\\n",
       "0               0                 0          1       1            0   \n",
       "1               0                 1          0       1            0   \n",
       "\n",
       "   Edu_level_H  \n",
       "0            0  \n",
       "1            0  "
      ]
     },
     "execution_count": 16,
     "metadata": {},
     "output_type": "execute_result"
    }
   ],
   "source": [
    "x.head(2)"
   ]
  },
  {
   "cell_type": "code",
   "execution_count": 17,
   "metadata": {},
   "outputs": [],
   "source": [
    "# 정규화 (2.6 min-max scaling)\n",
    "x = (x - x.min()) / (x.max() - x.min())"
   ]
  },
  {
   "cell_type": "markdown",
   "metadata": {
    "id": "-dgcE6vBZTJQ"
   },
   "source": [
    "### 2.5 데이터 분할"
   ]
  },
  {
   "cell_type": "code",
   "execution_count": 18,
   "metadata": {
    "id": "rrJdDjMiIa1d"
   },
   "outputs": [],
   "source": [
    "from sklearn.model_selection import train_test_split"
   ]
  },
  {
   "cell_type": "code",
   "execution_count": 19,
   "metadata": {
    "id": "0Lda-ShMKJhY"
   },
   "outputs": [],
   "source": [
    "x_train,x_test,y_train,y_test = train_test_split(x,y, test_size=0.2, random_state=2022)"
   ]
  },
  {
   "cell_type": "code",
   "execution_count": 20,
   "metadata": {},
   "outputs": [
    {
     "data": {
      "text/html": [
       "<div>\n",
       "<style scoped>\n",
       "    .dataframe tbody tr th:only-of-type {\n",
       "        vertical-align: middle;\n",
       "    }\n",
       "\n",
       "    .dataframe tbody tr th {\n",
       "        vertical-align: top;\n",
       "    }\n",
       "\n",
       "    .dataframe thead th {\n",
       "        text-align: right;\n",
       "    }\n",
       "</style>\n",
       "<table border=\"1\" class=\"dataframe\">\n",
       "  <thead>\n",
       "    <tr style=\"text-align: right;\">\n",
       "      <th></th>\n",
       "      <th>CompPrice</th>\n",
       "      <th>Income</th>\n",
       "      <th>Advertising</th>\n",
       "      <th>Population</th>\n",
       "      <th>Price</th>\n",
       "      <th>Age</th>\n",
       "      <th>Education</th>\n",
       "      <th>ShelveLoc_Good</th>\n",
       "      <th>ShelveLoc_Medium</th>\n",
       "      <th>Urban_Yes</th>\n",
       "      <th>US_Yes</th>\n",
       "      <th>Edu_level_M</th>\n",
       "      <th>Edu_level_H</th>\n",
       "    </tr>\n",
       "  </thead>\n",
       "  <tbody>\n",
       "    <tr>\n",
       "      <th>0</th>\n",
       "      <td>0.595506</td>\n",
       "      <td>0.909091</td>\n",
       "      <td>0.172414</td>\n",
       "      <td>0.599598</td>\n",
       "      <td>0.584507</td>\n",
       "      <td>0.672727</td>\n",
       "      <td>0.375</td>\n",
       "      <td>0.0</td>\n",
       "      <td>0.0</td>\n",
       "      <td>1.0</td>\n",
       "      <td>1.0</td>\n",
       "      <td>0.0</td>\n",
       "      <td>0.0</td>\n",
       "    </tr>\n",
       "    <tr>\n",
       "      <th>1</th>\n",
       "      <td>0.640449</td>\n",
       "      <td>0.000000</td>\n",
       "      <td>0.172414</td>\n",
       "      <td>0.138833</td>\n",
       "      <td>0.781690</td>\n",
       "      <td>0.763636</td>\n",
       "      <td>0.250</td>\n",
       "      <td>0.0</td>\n",
       "      <td>1.0</td>\n",
       "      <td>0.0</td>\n",
       "      <td>1.0</td>\n",
       "      <td>0.0</td>\n",
       "      <td>0.0</td>\n",
       "    </tr>\n",
       "  </tbody>\n",
       "</table>\n",
       "</div>"
      ],
      "text/plain": [
       "   CompPrice    Income  Advertising  Population     Price       Age  \\\n",
       "0   0.595506  0.909091     0.172414    0.599598  0.584507  0.672727   \n",
       "1   0.640449  0.000000     0.172414    0.138833  0.781690  0.763636   \n",
       "\n",
       "   Education  ShelveLoc_Good  ShelveLoc_Medium  Urban_Yes  US_Yes  \\\n",
       "0      0.375             0.0               0.0        1.0     1.0   \n",
       "1      0.250             0.0               1.0        0.0     1.0   \n",
       "\n",
       "   Edu_level_M  Edu_level_H  \n",
       "0          0.0          0.0  \n",
       "1          0.0          0.0  "
      ]
     },
     "execution_count": 20,
     "metadata": {},
     "output_type": "execute_result"
    }
   ],
   "source": [
    "x.head(2)"
   ]
  },
  {
   "cell_type": "markdown",
   "metadata": {
    "id": "ZghJJ7yLEpDA"
   },
   "source": [
    "## 3.모델링1 : 머신러닝"
   ]
  },
  {
   "cell_type": "markdown",
   "metadata": {
    "id": "NFDAfi7-5Xhu"
   },
   "source": [
    "### 3.1 모델링을 위한 함수 불러오기\n"
   ]
  },
  {
   "cell_type": "code",
   "execution_count": 31,
   "metadata": {
    "id": "zlHHnr2-5cwD"
   },
   "outputs": [],
   "source": [
    "# 사용할 알고리즘\n",
    "\n",
    "from sklearn.neighbors import KNeighborsRegressor\n",
    "from sklearn.tree import DecisionTreeRegressor\n",
    "from sklearn.linear_model import LinearRegression\n",
    "from sklearn.ensemble import RandomForestRegressor\n",
    "from sklearn.svm import SVR\n",
    "from xgboost import XGBRegressor\n",
    "\n",
    "# 성능 검증용\n",
    "\n",
    "from sklearn.model_selection import cross_val_score, GridSearchCV\n",
    "\n",
    "# 성능 평가용\n",
    "\n",
    "from sklearn.metrics import mean_absolute_error, r2_score\n",
    "\n",
    "result = {}"
   ]
  },
  {
   "cell_type": "markdown",
   "metadata": {
    "id": "t-gnca2jZTJQ"
   },
   "source": [
    "### 3.2 모델링"
   ]
  },
  {
   "cell_type": "markdown",
   "metadata": {
    "id": "1j8zehMIIqpv"
   },
   "source": [
    "#### (1) Linear Regression 모델링"
   ]
  },
  {
   "cell_type": "code",
   "execution_count": 32,
   "metadata": {
    "id": "afL0_rKpEoTz"
   },
   "outputs": [],
   "source": [
    "model = LinearRegression()"
   ]
  },
  {
   "cell_type": "code",
   "execution_count": 33,
   "metadata": {
    "id": "uFKvj_10EoQi"
   },
   "outputs": [
    {
     "data": {
      "text/plain": [
       "LinearRegression()"
      ]
     },
     "execution_count": 33,
     "metadata": {},
     "output_type": "execute_result"
    }
   ],
   "source": [
    "model.fit(x_train,y_train)"
   ]
  },
  {
   "cell_type": "code",
   "execution_count": 34,
   "metadata": {
    "id": "Um7zx9GQEoNk"
   },
   "outputs": [],
   "source": [
    "y_pred = model.predict(x_test)"
   ]
  },
  {
   "cell_type": "code",
   "execution_count": 37,
   "metadata": {},
   "outputs": [
    {
     "name": "stdout",
     "output_type": "stream",
     "text": [
      "0.8241715887428712\n",
      "0.8700619801270341\n"
     ]
    }
   ],
   "source": [
    "print(r2_score(y_test, y_pred))\n",
    "print(mean_absolute_error(y_test,y_pred))\n",
    "result['Linear Regression'] = mean_absolute_error(y_test,y_pred).round(3)"
   ]
  },
  {
   "cell_type": "code",
   "execution_count": 36,
   "metadata": {},
   "outputs": [
    {
     "data": {
      "image/png": "[encoded data removed]",
      "text/plain": [
       "<Figure size 432x288 with 1 Axes>"
      ]
     },
     "metadata": {
      "needs_background": "light"
     },
     "output_type": "display_data"
    }
   ],
   "source": [
    "# 변수 가중치 시각화\n",
    "plt.barh(y=list(x), width=model.coef_.reshape(-1))\n",
    "plt.show()"
   ]
  },
  {
   "cell_type": "markdown",
   "metadata": {
    "id": "ZwstDzzpe5Rg"
   },
   "source": [
    "#### (2) Decision Tree 모델링"
   ]
  },
  {
   "cell_type": "code",
   "execution_count": 38,
   "metadata": {
    "id": "9KBjAg2Ue5nI"
   },
   "outputs": [],
   "source": [
    "model_dec = DecisionTreeRegressor(random_state=2022)"
   ]
  },
  {
   "cell_type": "code",
   "execution_count": 39,
   "metadata": {
    "id": "cQUS0axYfKZI"
   },
   "outputs": [],
   "source": [
    "param = {'max_depth': range(1,11)}\n",
    "\n",
    "# Grid Search 모델 선언\n",
    "model = GridSearchCV(model_dec, param, cv=10, scoring='r2')"
   ]
  },
  {
   "cell_type": "code",
   "execution_count": 40,
   "metadata": {
    "id": "40N90iKAfa9j"
   },
   "outputs": [
    {
     "data": {
      "text/plain": [
       "GridSearchCV(cv=10, estimator=DecisionTreeRegressor(random_state=2022),\n",
       "             param_grid={'max_depth': range(1, 11)}, scoring='r2')"
      ]
     },
     "execution_count": 40,
     "metadata": {},
     "output_type": "execute_result"
    }
   ],
   "source": [
    "model.fit(x_train,y_train)"
   ]
  },
  {
   "cell_type": "code",
   "execution_count": 41,
   "metadata": {},
   "outputs": [
    {
     "name": "stdout",
     "output_type": "stream",
     "text": [
      "{'max_depth': 4}\n",
      "0.4177480306577029\n"
     ]
    }
   ],
   "source": [
    "print(model.best_params_)\n",
    "print(model.best_score_)"
   ]
  },
  {
   "cell_type": "code",
   "execution_count": 42,
   "metadata": {},
   "outputs": [
    {
     "name": "stdout",
     "output_type": "stream",
     "text": [
      "0.19278895004533492\n",
      "1.8140672605172603\n"
     ]
    }
   ],
   "source": [
    "y_pred = model.predict(x_test)\n",
    "print(r2_score(y_test,y_pred))\n",
    "print(mean_absolute_error(y_test,y_pred))\n",
    "result['Decision Tree'] = mean_absolute_error(y_test,y_pred).round(3)"
   ]
  },
  {
   "cell_type": "code",
   "execution_count": 89,
   "metadata": {},
   "outputs": [
    {
     "data": {
      "image/png": "[encoded data removed]",
      "text/plain": [
       "<Figure size 432x288 with 1 Axes>"
      ]
     },
     "metadata": {
      "needs_background": "light"
     },
     "output_type": "display_data"
    }
   ],
   "source": [
    "# 변수 중요도 시각화\n",
    "plt.barh(y=list(x), width= model.best_estimator_.feature_importances_)\n",
    "plt.show()"
   ]
  },
  {
   "cell_type": "code",
   "execution_count": 90,
   "metadata": {},
   "outputs": [
    {
     "data": {
      "image/png": "[encoded data removed]",
      "text/plain": [
       "<Figure size 1800x720 with 1 Axes>"
      ]
     },
     "metadata": {
      "needs_background": "light"
     },
     "output_type": "display_data"
    }
   ],
   "source": [
    "# 트리 시각화\n",
    "from sklearn.tree import plot_tree\n",
    "\n",
    "plt.figure(figsize=(25,10))\n",
    "plot_tree(model.best_estimator_, \n",
    "          filled=True,\n",
    "          feature_names=list(x),\n",
    "          fontsize=4)\n",
    "plt.show()"
   ]
  },
  {
   "cell_type": "markdown",
   "metadata": {
    "id": "b7sweeGMWYO1"
   },
   "source": [
    "#### (3) KNN 모델링"
   ]
  },
  {
   "cell_type": "code",
   "execution_count": 43,
   "metadata": {
    "id": "hHLzHD5KWYO6"
   },
   "outputs": [],
   "source": [
    "model_knn = KNeighborsRegressor()\n",
    "\n",
    "param = {'n_neighbors': range(1,11)}\n",
    "\n",
    "model = GridSearchCV(model_knn, param, cv=10, scoring='r2')"
   ]
  },
  {
   "cell_type": "code",
   "execution_count": 44,
   "metadata": {
    "id": "C0wxfihLWYO6"
   },
   "outputs": [
    {
     "data": {
      "text/plain": [
       "GridSearchCV(cv=10, estimator=KNeighborsRegressor(),\n",
       "             param_grid={'n_neighbors': range(1, 11)}, scoring='r2')"
      ]
     },
     "execution_count": 44,
     "metadata": {},
     "output_type": "execute_result"
    }
   ],
   "source": [
    "model.fit(x_train,y_train)"
   ]
  },
  {
   "cell_type": "code",
   "execution_count": 45,
   "metadata": {
    "id": "rn6oLQAbWYO6"
   },
   "outputs": [
    {
     "name": "stdout",
     "output_type": "stream",
     "text": [
      "{'n_neighbors': 7}\n",
      "0.3400206612232151\n"
     ]
    }
   ],
   "source": [
    "# 최적파라미터, 성능 확인\n",
    "print(model.best_params_)\n",
    "print(model.best_score_)"
   ]
  },
  {
   "cell_type": "code",
   "execution_count": 46,
   "metadata": {},
   "outputs": [],
   "source": [
    "y_pred = model.predict(x_test)"
   ]
  },
  {
   "cell_type": "code",
   "execution_count": 47,
   "metadata": {},
   "outputs": [],
   "source": [
    "mean_absolute_error(y_test,y_pred)\n",
    "result['KNN'] = mean_absolute_error(y_test,y_pred).round(3)"
   ]
  },
  {
   "cell_type": "markdown",
   "metadata": {
    "id": "FNAN5h5ZjxET"
   },
   "source": [
    "#### (5) Random Forest 모델링"
   ]
  },
  {
   "cell_type": "code",
   "execution_count": 48,
   "metadata": {
    "id": "EnDLOQh3KW7X"
   },
   "outputs": [],
   "source": [
    "from sklearn.ensemble import RandomForestRegressor"
   ]
  },
  {
   "cell_type": "code",
   "execution_count": 49,
   "metadata": {
    "id": "wqIKNc1pKWsP"
   },
   "outputs": [],
   "source": [
    "model = RandomForestRegressor(random_state=2022)"
   ]
  },
  {
   "cell_type": "code",
   "execution_count": 50,
   "metadata": {},
   "outputs": [
    {
     "data": {
      "text/plain": [
       "RandomForestRegressor(random_state=2022)"
      ]
     },
     "execution_count": 50,
     "metadata": {},
     "output_type": "execute_result"
    }
   ],
   "source": [
    "model.fit(x_train,y_train)"
   ]
  },
  {
   "cell_type": "code",
   "execution_count": 51,
   "metadata": {},
   "outputs": [],
   "source": [
    "y_pred = model.predict(x_test)"
   ]
  },
  {
   "cell_type": "code",
   "execution_count": 52,
   "metadata": {
    "id": "lB6gCjZjkKB9"
   },
   "outputs": [],
   "source": [
    "mean_absolute_error(y_test,y_pred)\n",
    "result['Random Forest'] = mean_absolute_error(y_test,y_pred).round(3)"
   ]
  },
  {
   "cell_type": "markdown",
   "metadata": {
    "id": "EuRaZc7OkRJN"
   },
   "source": [
    "#### (6) XGB 모델링"
   ]
  },
  {
   "cell_type": "code",
   "execution_count": 53,
   "metadata": {
    "id": "g6HxAbuqnnsO"
   },
   "outputs": [],
   "source": [
    "model = XGBRegressor(random_state = 2022)"
   ]
  },
  {
   "cell_type": "code",
   "execution_count": 54,
   "metadata": {
    "id": "eqVqwahhAfET"
   },
   "outputs": [
    {
     "data": {
      "text/plain": [
       "0.5755073244982403"
      ]
     },
     "execution_count": 54,
     "metadata": {},
     "output_type": "execute_result"
    }
   ],
   "source": [
    "# Cross_val로 검증해보기\n",
    "cv_score = cross_val_score(model, x_train,y_train, cv=10)\n",
    "cv_score.mean()"
   ]
  },
  {
   "cell_type": "code",
   "execution_count": 24,
   "metadata": {
    "id": "yh-2Fmud9RMa"
   },
   "outputs": [],
   "source": [
    "# XGB 최적화\n",
    "model_xgb = XGBRegressor()\n",
    "param = {'max_depth': range(3,11), 'n_estimators': range(50, 101, 10)}\n",
    "model = GridSearchCV(model_xgb, param, cv=10, scoring='r2')"
   ]
  },
  {
   "cell_type": "code",
   "execution_count": 25,
   "metadata": {},
   "outputs": [
    {
     "data": {
      "text/plain": [
       "GridSearchCV(cv=10,\n",
       "             estimator=XGBRegressor(base_score=None, booster=None,\n",
       "                                    colsample_bylevel=None,\n",
       "                                    colsample_bynode=None,\n",
       "                                    colsample_bytree=None,\n",
       "                                    enable_categorical=False, gamma=None,\n",
       "                                    gpu_id=None, importance_type=None,\n",
       "                                    interaction_constraints=None,\n",
       "                                    learning_rate=None, max_delta_step=None,\n",
       "                                    max_depth=None, min_child_weight=None,\n",
       "                                    missing=nan, monotone_constraints=None,\n",
       "                                    n_estimators=100, n_jobs=None,\n",
       "                                    num_parallel_tree=None, predictor=None,\n",
       "                                    random_state=None, reg_alpha=None,\n",
       "                                    reg_lambda=None, scale_pos_weight=None,\n",
       "                                    subsample=None, tree_method=None,\n",
       "                                    validate_parameters=None, verbosity=None),\n",
       "             param_grid={'max_depth': range(3, 11),\n",
       "                         'n_estimators': range(50, 101, 10)},\n",
       "             scoring='r2')"
      ]
     },
     "execution_count": 25,
     "metadata": {},
     "output_type": "execute_result"
    }
   ],
   "source": [
    "model.fit(x_train,y_train)"
   ]
  },
  {
   "cell_type": "code",
   "execution_count": 26,
   "metadata": {},
   "outputs": [
    {
     "name": "stdout",
     "output_type": "stream",
     "text": [
      "['CompPrice', 'Income', 'Advertising', 'Population', 'Price', 'Age', 'Education', 'ShelveLoc_Good', 'ShelveLoc_Medium', 'Urban_Yes', 'US_Yes', 'Edu_level_M', 'Edu_level_H']\n",
      "0.6870938081573384\n",
      "{'max_depth': 3, 'n_estimators': 70}\n"
     ]
    }
   ],
   "source": [
    "print(list(x))\n",
    "print(model.best_score_)\n",
    "print(model.best_params_)"
   ]
  },
  {
   "cell_type": "code",
   "execution_count": 27,
   "metadata": {},
   "outputs": [],
   "source": [
    "y_pred = model.predict(x_test)"
   ]
  },
  {
   "cell_type": "code",
   "execution_count": 29,
   "metadata": {},
   "outputs": [
    {
     "name": "stdout",
     "output_type": "stream",
     "text": [
      "1.0882105686881325\n",
      "0.710671076213115\n"
     ]
    }
   ],
   "source": [
    "print(mean_absolute_error(y_test,y_pred))\n",
    "print(r2_score(y_test,y_pred))"
   ]
  },
  {
   "cell_type": "code",
   "execution_count": 56,
   "metadata": {},
   "outputs": [],
   "source": [
    "result['XGB'] = 1.088"
   ]
  },
  {
   "cell_type": "code",
   "execution_count": 30,
   "metadata": {},
   "outputs": [
    {
     "data": {
      "image/png": "[encoded data removed]",
      "text/plain": [
       "<Figure size 432x288 with 1 Axes>"
      ]
     },
     "metadata": {
      "needs_background": "light"
     },
     "output_type": "display_data"
    }
   ],
   "source": [
    "# 변수 중요도 시각화\n",
    "plt.barh(y=list(x), width= model.best_estimator_.feature_importances_)\n",
    "plt.show()"
   ]
  },
  {
   "cell_type": "markdown",
   "metadata": {
    "id": "IRsH_UjrXNiW"
   },
   "source": [
    "## 4.모델링2 : 딥러닝"
   ]
  },
  {
   "cell_type": "markdown",
   "metadata": {
    "id": "b9kRyQ6K6CIW"
   },
   "source": [
    "### 4.1 모델링을 위한 함수 불러오기"
   ]
  },
  {
   "cell_type": "code",
   "execution_count": 106,
   "metadata": {
    "id": "_BDNB7hM9_hz"
   },
   "outputs": [],
   "source": [
    "import tensorflow as tf\n",
    "from tensorflow import keras"
   ]
  },
  {
   "cell_type": "markdown",
   "metadata": {
    "id": "QEe9g-0DXNia"
   },
   "source": [
    "### 4.2 모델 설계\n",
    "* 다양한 구조의 모델 3개 이상을 설계"
   ]
  },
  {
   "cell_type": "markdown",
   "metadata": {
    "id": "yAaMF07mHz_q"
   },
   "source": [
    "* 모델1 "
   ]
  },
  {
   "cell_type": "code",
   "execution_count": 110,
   "metadata": {},
   "outputs": [
    {
     "data": {
      "text/plain": [
       "((220, 13), (220,))"
      ]
     },
     "execution_count": 110,
     "metadata": {},
     "output_type": "execute_result"
    }
   ],
   "source": [
    "x_train.shape, y_train.shape"
   ]
  },
  {
   "cell_type": "code",
   "execution_count": 111,
   "metadata": {},
   "outputs": [
    {
     "data": {
      "text/plain": [
       "((275, 13), (275,))"
      ]
     },
     "execution_count": 111,
     "metadata": {},
     "output_type": "execute_result"
    }
   ],
   "source": [
    "x.shape, y.shape"
   ]
  },
  {
   "cell_type": "code",
   "execution_count": 124,
   "metadata": {
    "id": "i-boLYXkXdpj"
   },
   "outputs": [],
   "source": [
    "keras.backend.clear_session()\n",
    "model = keras.models.Sequential()\n",
    "model.add(keras.layers.Input(shape=(13,)))\n",
    "model.add(keras.layers.Dense(64, activation='relu'))\n",
    "model.add(keras.layers.Dense(64, activation='relu'))\n",
    "model.add(keras.layers.Dense(1)) # 회귀문제이므로 필요없다\n",
    "\n",
    "model.compile(loss= keras.losses.mean_absolute_error, optimizer= keras.optimizers.Adam(learning_rate=0.01))"
   ]
  },
  {
   "cell_type": "code",
   "execution_count": 125,
   "metadata": {},
   "outputs": [],
   "source": [
    "from tensorflow.keras.callbacks import EarlyStopping"
   ]
  },
  {
   "cell_type": "code",
   "execution_count": 126,
   "metadata": {},
   "outputs": [],
   "source": [
    "es = EarlyStopping(monitor='val_loss', min_delta=0, patience=5, restore_best_weights=True, verbose=1)"
   ]
  },
  {
   "cell_type": "code",
   "execution_count": 127,
   "metadata": {},
   "outputs": [
    {
     "name": "stdout",
     "output_type": "stream",
     "text": [
      "Epoch 1/200\n",
      "2/2 [==============================] - 1s 183ms/step - loss: 6.9105 - val_loss: 5.5003\n",
      "Epoch 2/200\n",
      "2/2 [==============================] - 0s 35ms/step - loss: 4.9559 - val_loss: 3.1151\n",
      "Epoch 3/200\n",
      "2/2 [==============================] - 0s 39ms/step - loss: 3.0216 - val_loss: 2.6058\n",
      "Epoch 4/200\n",
      "2/2 [==============================] - 0s 40ms/step - loss: 3.2035 - val_loss: 3.1310\n",
      "Epoch 5/200\n",
      "2/2 [==============================] - 0s 36ms/step - loss: 3.3237 - val_loss: 2.2571\n",
      "Epoch 6/200\n",
      "2/2 [==============================] - 0s 37ms/step - loss: 2.5484 - val_loss: 2.2527\n",
      "Epoch 7/200\n",
      "2/2 [==============================] - 0s 34ms/step - loss: 2.4854 - val_loss: 2.6106\n",
      "Epoch 8/200\n",
      "2/2 [==============================] - 0s 38ms/step - loss: 2.6643 - val_loss: 2.6529\n",
      "Epoch 9/200\n",
      "2/2 [==============================] - 0s 40ms/step - loss: 2.6039 - val_loss: 2.2890\n",
      "Epoch 10/200\n",
      "2/2 [==============================] - 0s 33ms/step - loss: 2.3485 - val_loss: 1.9433\n",
      "Epoch 11/200\n",
      "2/2 [==============================] - 0s 35ms/step - loss: 2.2022 - val_loss: 2.0021\n",
      "Epoch 12/200\n",
      "2/2 [==============================] - 0s 36ms/step - loss: 2.1482 - val_loss: 2.0118\n",
      "Epoch 13/200\n",
      "2/2 [==============================] - 0s 39ms/step - loss: 2.0828 - val_loss: 1.9092\n",
      "Epoch 14/200\n",
      "2/2 [==============================] - 0s 37ms/step - loss: 2.0071 - val_loss: 1.8785\n",
      "Epoch 15/200\n",
      "2/2 [==============================] - 0s 35ms/step - loss: 1.9440 - val_loss: 1.8842\n",
      "Epoch 16/200\n",
      "2/2 [==============================] - 0s 36ms/step - loss: 1.9029 - val_loss: 1.8944\n",
      "Epoch 17/200\n",
      "2/2 [==============================] - 0s 35ms/step - loss: 1.8402 - val_loss: 1.9155\n",
      "Epoch 18/200\n",
      "2/2 [==============================] - 0s 43ms/step - loss: 1.8127 - val_loss: 1.8612\n",
      "Epoch 19/200\n",
      "2/2 [==============================] - 0s 40ms/step - loss: 1.7438 - val_loss: 1.8031\n",
      "Epoch 20/200\n",
      "2/2 [==============================] - 0s 42ms/step - loss: 1.6953 - val_loss: 1.7789\n",
      "Epoch 21/200\n",
      "2/2 [==============================] - 0s 46ms/step - loss: 1.6495 - val_loss: 1.7506\n",
      "Epoch 22/200\n",
      "2/2 [==============================] - 0s 35ms/step - loss: 1.5943 - val_loss: 1.7573\n",
      "Epoch 23/200\n",
      "2/2 [==============================] - 0s 39ms/step - loss: 1.5743 - val_loss: 1.7332\n",
      "Epoch 24/200\n",
      "2/2 [==============================] - 0s 37ms/step - loss: 1.5305 - val_loss: 1.6694\n",
      "Epoch 25/200\n",
      "2/2 [==============================] - 0s 35ms/step - loss: 1.4800 - val_loss: 1.6653\n",
      "Epoch 26/200\n",
      "2/2 [==============================] - 0s 38ms/step - loss: 1.4367 - val_loss: 1.6404\n",
      "Epoch 27/200\n",
      "2/2 [==============================] - 0s 40ms/step - loss: 1.3829 - val_loss: 1.6054\n",
      "Epoch 28/200\n",
      "2/2 [==============================] - 0s 36ms/step - loss: 1.3516 - val_loss: 1.5794\n",
      "Epoch 29/200\n",
      "2/2 [==============================] - 0s 35ms/step - loss: 1.3164 - val_loss: 1.5295\n",
      "Epoch 30/200\n",
      "2/2 [==============================] - 0s 37ms/step - loss: 1.2537 - val_loss: 1.4997\n",
      "Epoch 31/200\n",
      "2/2 [==============================] - 0s 37ms/step - loss: 1.2272 - val_loss: 1.4769\n",
      "Epoch 32/200\n",
      "2/2 [==============================] - 0s 44ms/step - loss: 1.1966 - val_loss: 1.4642\n",
      "Epoch 33/200\n",
      "2/2 [==============================] - 0s 40ms/step - loss: 1.1606 - val_loss: 1.4131\n",
      "Epoch 34/200\n",
      "2/2 [==============================] - 0s 37ms/step - loss: 1.1006 - val_loss: 1.3670\n",
      "Epoch 35/200\n",
      "2/2 [==============================] - 0s 42ms/step - loss: 1.0881 - val_loss: 1.3328\n",
      "Epoch 36/200\n",
      "2/2 [==============================] - 0s 39ms/step - loss: 1.0355 - val_loss: 1.2829\n",
      "Epoch 37/200\n",
      "2/2 [==============================] - 0s 41ms/step - loss: 1.0168 - val_loss: 1.2028\n",
      "Epoch 38/200\n",
      "2/2 [==============================] - 0s 38ms/step - loss: 0.9845 - val_loss: 1.1502\n",
      "Epoch 39/200\n",
      "2/2 [==============================] - 0s 42ms/step - loss: 0.9548 - val_loss: 1.1172\n",
      "Epoch 40/200\n",
      "2/2 [==============================] - 0s 41ms/step - loss: 0.9081 - val_loss: 1.0567\n",
      "Epoch 41/200\n",
      "2/2 [==============================] - 0s 38ms/step - loss: 0.9154 - val_loss: 1.0935\n",
      "Epoch 42/200\n",
      "2/2 [==============================] - 0s 67ms/step - loss: 0.8775 - val_loss: 1.0366\n",
      "Epoch 43/200\n",
      "2/2 [==============================] - 0s 41ms/step - loss: 0.8481 - val_loss: 1.0895\n",
      "Epoch 44/200\n",
      "2/2 [==============================] - 0s 38ms/step - loss: 0.8448 - val_loss: 1.0890\n",
      "Epoch 45/200\n",
      "2/2 [==============================] - 0s 39ms/step - loss: 0.8132 - val_loss: 1.0334\n",
      "Epoch 46/200\n",
      "2/2 [==============================] - 0s 37ms/step - loss: 0.8261 - val_loss: 1.0721\n",
      "Epoch 47/200\n",
      "2/2 [==============================] - 0s 36ms/step - loss: 0.7894 - val_loss: 1.0152\n",
      "Epoch 48/200\n",
      "2/2 [==============================] - 0s 35ms/step - loss: 0.8204 - val_loss: 1.1567\n",
      "Epoch 49/200\n",
      "2/2 [==============================] - 0s 37ms/step - loss: 0.8265 - val_loss: 1.0224\n",
      "Epoch 50/200\n",
      "2/2 [==============================] - 0s 37ms/step - loss: 0.7786 - val_loss: 1.0113\n",
      "Epoch 51/200\n",
      "2/2 [==============================] - 0s 38ms/step - loss: 0.7608 - val_loss: 1.1880\n",
      "Epoch 52/200\n",
      "2/2 [==============================] - 0s 41ms/step - loss: 0.7912 - val_loss: 0.9661\n",
      "Epoch 53/200\n",
      "2/2 [==============================] - 0s 36ms/step - loss: 0.8128 - val_loss: 1.1049\n",
      "Epoch 54/200\n",
      "2/2 [==============================] - 0s 44ms/step - loss: 0.7552 - val_loss: 1.0260\n",
      "Epoch 55/200\n",
      "2/2 [==============================] - 0s 43ms/step - loss: 0.7194 - val_loss: 1.0238\n",
      "Epoch 56/200\n",
      "2/2 [==============================] - 0s 40ms/step - loss: 0.7152 - val_loss: 1.1307\n",
      "Epoch 57/200\n",
      "1/2 [==============>...............] - ETA: 0s - loss: 0.7339Restoring model weights from the end of the best epoch: 52.\n",
      "2/2 [==============================] - 0s 45ms/step - loss: 0.7171 - val_loss: 1.0065\n",
      "Epoch 57: early stopping\n"
     ]
    },
    {
     "data": {
      "text/plain": [
       "<keras.callbacks.History at 0x25f30dacfa0>"
      ]
     },
     "execution_count": 127,
     "metadata": {},
     "output_type": "execute_result"
    }
   ],
   "source": [
    "model.fit(x_train, y_train, epochs=200, verbose=1, callbacks=[es], validation_split=0.2, batch_size=128)"
   ]
  },
  {
   "cell_type": "code",
   "execution_count": 128,
   "metadata": {},
   "outputs": [
    {
     "name": "stdout",
     "output_type": "stream",
     "text": [
      "[[6.5712323]\n",
      " [9.128499 ]\n",
      " [8.883868 ]\n",
      " [9.306414 ]\n",
      " [5.129311 ]]\n",
      "281    5.71\n",
      "169    6.89\n",
      "65     8.55\n",
      "47     9.24\n",
      "241    6.03\n",
      "Name: Sales, dtype: float64\n"
     ]
    }
   ],
   "source": [
    "y_pred = model.predict(x_test)\n",
    "print(y_pred[:5])\n",
    "print(y_test[:5])"
   ]
  },
  {
   "cell_type": "markdown",
   "metadata": {
    "id": "gU1_UtFlH3sY"
   },
   "source": [
    "* 모델2"
   ]
  },
  {
   "cell_type": "code",
   "execution_count": 129,
   "metadata": {},
   "outputs": [
    {
     "data": {
      "text/plain": [
       "(220, 13)"
      ]
     },
     "execution_count": 129,
     "metadata": {},
     "output_type": "execute_result"
    }
   ],
   "source": [
    "x_train.shape"
   ]
  },
  {
   "cell_type": "code",
   "execution_count": 134,
   "metadata": {
    "id": "bjcO9q9mH3sY"
   },
   "outputs": [],
   "source": [
    "# Functional API\n",
    "\n",
    "keras.backend.clear_session()\n",
    "il = keras.layers.Input(shape=(13,))\n",
    "dl = keras.layers.Dense(64, activation='relu')(il)\n",
    "dl = keras.layers.Dense(64, activation='relu')(dl)\n",
    "ol = keras.layers.Dense(1)(dl)\n",
    "\n",
    "model = keras.models.Model(il,ol)\n",
    "\n",
    "model.compile(loss=keras.losses.mean_absolute_error, optimizer= keras.optimizers.Adam(learning_rate=0.01))"
   ]
  },
  {
   "cell_type": "code",
   "execution_count": 135,
   "metadata": {},
   "outputs": [
    {
     "name": "stdout",
     "output_type": "stream",
     "text": [
      "Epoch 1/200\n",
      "2/2 [==============================] - 1s 190ms/step - loss: 7.2065 - val_loss: 6.3674\n",
      "Epoch 2/200\n",
      "2/2 [==============================] - 0s 37ms/step - loss: 5.9369 - val_loss: 4.5769\n",
      "Epoch 3/200\n",
      "2/2 [==============================] - 0s 41ms/step - loss: 4.0551 - val_loss: 2.3779\n",
      "Epoch 4/200\n",
      "2/2 [==============================] - 0s 37ms/step - loss: 2.4882 - val_loss: 2.9820\n",
      "Epoch 5/200\n",
      "2/2 [==============================] - 0s 41ms/step - loss: 3.3565 - val_loss: 2.6860\n",
      "Epoch 6/200\n",
      "2/2 [==============================] - 0s 37ms/step - loss: 2.8718 - val_loss: 2.0372\n",
      "Epoch 7/200\n",
      "2/2 [==============================] - 0s 33ms/step - loss: 2.3306 - val_loss: 2.3353\n",
      "Epoch 8/200\n",
      "2/2 [==============================] - 0s 43ms/step - loss: 2.3772 - val_loss: 2.5017\n",
      "Epoch 9/200\n",
      "2/2 [==============================] - 0s 36ms/step - loss: 2.4352 - val_loss: 2.3011\n",
      "Epoch 10/200\n",
      "2/2 [==============================] - 0s 36ms/step - loss: 2.2347 - val_loss: 1.9379\n",
      "Epoch 11/200\n",
      "2/2 [==============================] - 0s 35ms/step - loss: 2.0342 - val_loss: 1.9291\n",
      "Epoch 12/200\n",
      "2/2 [==============================] - 0s 33ms/step - loss: 2.0487 - val_loss: 2.0649\n",
      "Epoch 13/200\n",
      "2/2 [==============================] - 0s 36ms/step - loss: 2.0902 - val_loss: 1.8784\n",
      "Epoch 14/200\n",
      "2/2 [==============================] - 0s 35ms/step - loss: 1.9374 - val_loss: 1.7887\n",
      "Epoch 15/200\n",
      "2/2 [==============================] - 0s 33ms/step - loss: 1.8250 - val_loss: 1.8242\n",
      "Epoch 16/200\n",
      "2/2 [==============================] - 0s 33ms/step - loss: 1.8073 - val_loss: 1.7919\n",
      "Epoch 17/200\n",
      "2/2 [==============================] - 0s 36ms/step - loss: 1.7302 - val_loss: 1.7569\n",
      "Epoch 18/200\n",
      "2/2 [==============================] - 0s 35ms/step - loss: 1.6560 - val_loss: 1.7482\n",
      "Epoch 19/200\n",
      "2/2 [==============================] - 0s 36ms/step - loss: 1.6326 - val_loss: 1.7393\n",
      "Epoch 20/200\n",
      "2/2 [==============================] - 0s 37ms/step - loss: 1.5859 - val_loss: 1.7003\n",
      "Epoch 21/200\n",
      "2/2 [==============================] - 0s 35ms/step - loss: 1.5146 - val_loss: 1.7092\n",
      "Epoch 22/200\n",
      "2/2 [==============================] - 0s 38ms/step - loss: 1.4902 - val_loss: 1.6999\n",
      "Epoch 23/200\n",
      "2/2 [==============================] - 0s 37ms/step - loss: 1.4390 - val_loss: 1.6403\n",
      "Epoch 24/200\n",
      "2/2 [==============================] - 0s 40ms/step - loss: 1.3987 - val_loss: 1.6265\n",
      "Epoch 25/200\n",
      "2/2 [==============================] - 0s 39ms/step - loss: 1.3923 - val_loss: 1.5706\n",
      "Epoch 26/200\n",
      "2/2 [==============================] - 0s 35ms/step - loss: 1.3050 - val_loss: 1.5475\n",
      "Epoch 27/200\n",
      "2/2 [==============================] - 0s 39ms/step - loss: 1.2729 - val_loss: 1.4963\n",
      "Epoch 28/200\n",
      "2/2 [==============================] - 0s 43ms/step - loss: 1.2094 - val_loss: 1.5104\n",
      "Epoch 29/200\n",
      "2/2 [==============================] - 0s 36ms/step - loss: 1.2104 - val_loss: 1.4436\n",
      "Epoch 30/200\n",
      "2/2 [==============================] - 0s 43ms/step - loss: 1.1497 - val_loss: 1.4016\n",
      "Epoch 31/200\n",
      "2/2 [==============================] - 0s 41ms/step - loss: 1.1098 - val_loss: 1.3857\n",
      "Epoch 32/200\n",
      "2/2 [==============================] - 0s 34ms/step - loss: 1.1066 - val_loss: 1.3361\n",
      "Epoch 33/200\n",
      "2/2 [==============================] - 0s 33ms/step - loss: 1.0818 - val_loss: 1.2933\n",
      "Epoch 34/200\n",
      "2/2 [==============================] - 0s 35ms/step - loss: 1.0246 - val_loss: 1.3425\n",
      "Epoch 35/200\n",
      "2/2 [==============================] - 0s 38ms/step - loss: 1.0417 - val_loss: 1.1922\n",
      "Epoch 36/200\n",
      "2/2 [==============================] - 0s 41ms/step - loss: 0.9526 - val_loss: 1.1553\n",
      "Epoch 37/200\n",
      "2/2 [==============================] - 0s 46ms/step - loss: 0.9452 - val_loss: 1.1667\n",
      "Epoch 38/200\n",
      "2/2 [==============================] - 0s 44ms/step - loss: 0.9197 - val_loss: 1.0870\n",
      "Epoch 39/200\n",
      "2/2 [==============================] - 0s 39ms/step - loss: 0.9164 - val_loss: 1.1861\n",
      "Epoch 40/200\n",
      "2/2 [==============================] - 0s 37ms/step - loss: 0.9301 - val_loss: 1.0713\n",
      "Epoch 41/200\n",
      "2/2 [==============================] - 0s 39ms/step - loss: 0.8901 - val_loss: 1.1109\n",
      "Epoch 42/200\n",
      "2/2 [==============================] - 0s 58ms/step - loss: 0.8523 - val_loss: 1.2383\n",
      "Epoch 43/200\n",
      "2/2 [==============================] - 0s 36ms/step - loss: 0.9003 - val_loss: 1.1037\n",
      "Epoch 44/200\n",
      "2/2 [==============================] - 0s 38ms/step - loss: 0.8237 - val_loss: 1.2165\n",
      "Epoch 45/200\n",
      "1/2 [==============>...............] - ETA: 0s - loss: 0.8008Restoring model weights from the end of the best epoch: 40.\n",
      "2/2 [==============================] - 0s 42ms/step - loss: 0.8277 - val_loss: 1.1140\n",
      "Epoch 45: early stopping\n"
     ]
    },
    {
     "data": {
      "text/plain": [
       "<keras.callbacks.History at 0x25f320bffd0>"
      ]
     },
     "execution_count": 135,
     "metadata": {},
     "output_type": "execute_result"
    }
   ],
   "source": [
    "model.fit(x_train, y_train, epochs=200, verbose=1, callbacks=[es], validation_split=0.2, batch_size=128)"
   ]
  },
  {
   "cell_type": "code",
   "execution_count": 136,
   "metadata": {},
   "outputs": [
    {
     "name": "stdout",
     "output_type": "stream",
     "text": [
      "[[6.363798]\n",
      " [9.22623 ]\n",
      " [8.951632]\n",
      " [8.497963]\n",
      " [4.705907]]\n",
      "281    5.71\n",
      "169    6.89\n",
      "65     8.55\n",
      "47     9.24\n",
      "241    6.03\n",
      "Name: Sales, dtype: float64\n"
     ]
    }
   ],
   "source": [
    "y_pred = model.predict(x_test)\n",
    "print(y_pred[:5])\n",
    "print(y_test[:5])"
   ]
  },
  {
   "cell_type": "markdown",
   "metadata": {
    "id": "iXOlv7oSKLlt"
   },
   "source": [
    "* 모델3"
   ]
  },
  {
   "cell_type": "markdown",
   "metadata": {
    "id": "aa-dyU-WXgM3"
   },
   "source": [
    "# 비교\n",
    "- 성능 비교를 위해 어떤 API를 사용했을때 loss를 줄일수 있을까라는 의문이 들어 Sequental 방식과 Functional 방식을 사용하고 학습조건은 동일하게 주었다.\n",
    "    그 결과 Sequential 방식이 loss가 낮은것으로 보아 해당 데이터셋인 자동차 시트 매출에는 순차방식의 API를 통한 모델링이 더욱 효율적이라고 판단이 되었다."
   ]
  },
  {
   "cell_type": "markdown",
   "metadata": {
    "id": "_diIqEQYZTJU"
   },
   "source": [
    "## 5.성능 비교"
   ]
  },
  {
   "cell_type": "code",
   "execution_count": 59,
   "metadata": {
    "id": "gFf7Evap-Anj"
   },
   "outputs": [
    {
     "name": "stdout",
     "output_type": "stream",
     "text": [
      "=======================================================\n",
      "Linear Regression\n",
      "0.87\n",
      "=======================================================\n",
      "Decision Tree\n",
      "1.814\n",
      "=======================================================\n",
      "KNN\n",
      "1.592\n",
      "=======================================================\n",
      "Random Forest\n",
      "1.18\n",
      "=======================================================\n",
      "XGB\n",
      "1.088\n"
     ]
    }
   ],
   "source": [
    "for m_name, m_score in result.items():\n",
    "    print('=' * 55)\n",
    "    print(m_name)\n",
    "    print(m_score)"
   ]
  },
  {
   "cell_type": "markdown",
   "metadata": {},
   "source": [
    "- 이 값들은 각각의 mean_absolute_error 값으로 이 5가지 모델중 linear Regression 이 가장 좋다고 판단된다.\n",
    "\n",
    "### <font color=red>최종적으로 각각의 모델을 MAE로 판단했을때 Linear Regression 모델과 Sequential API 방식을 사용하는게 가장 효율적이다.</font>"
   ]
  },
  {
   "cell_type": "code",
   "execution_count": 60,
   "metadata": {},
   "outputs": [],
   "source": [
    "import seaborn as sns"
   ]
  },
  {
   "cell_type": "code",
   "execution_count": 73,
   "metadata": {},
   "outputs": [
    {
     "data": {
      "text/plain": [
       "<AxesSubplot:xlabel='Sales', ylabel='Count'>"
      ]
     },
     "execution_count": 73,
     "metadata": {},
     "output_type": "execute_result"
    },
    {
     "data": {
      "image/png": "[encoded data removed]",
      "text/plain": [
       "<Figure size 432x288 with 1 Axes>"
      ]
     },
     "metadata": {
      "needs_background": "light"
     },
     "output_type": "display_data"
    }
   ],
   "source": [
    "# data.columns\n",
    "sns.histplot(data, x='Sales', bins=30)"
   ]
  }
 ],
 "metadata": {
  "colab": {
   "collapsed_sections": [],
   "name": "과제1.  car seat 매출 예측.ipynb",
   "provenance": [],
   "toc_visible": true
  },
  "kernelspec": {
   "display_name": "Python 3 (ipykernel)",
   "language": "python",
   "name": "python3"
  },
  "language_info": {
   "codemirror_mode": {
    "name": "ipython",
    "version": 3
   },
   "file_extension": ".py",
   "mimetype": "text/x-python",
   "name": "python",
   "nbconvert_exporter": "python",
   "pygments_lexer": "ipython3",
   "version": "3.9.13"
  }
 },
 "nbformat": 4,
 "nbformat_minor": 4
}
