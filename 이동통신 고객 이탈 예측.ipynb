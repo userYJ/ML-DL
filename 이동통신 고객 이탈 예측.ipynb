{
 "cells": [
  {
   "cell_type": "markdown",
   "metadata": {
    "id": "mTt7qGUTCcFs"
   },
   "source": [
    "# 이동통신 고객 이탈 예측"
   ]
  },
  {
   "cell_type": "markdown",
   "metadata": {
    "id": "cdQaCT5I0IL_"
   },
   "source": [
    "* 여러분은 OO 통신화사 데이터분석가 입니다.\n",
    "* 00 통신회사의 올해 고객 목표는, **현재 고객수를 유지**하는 것입니다.\n",
    "* 더욱 치열해진 경쟁 상황에서 고객수를 유지하는 것은 굉장히 도전적인 목표 입니다.\n",
    "* 이를 위해 회사는 약정기간이 끝난 고객이 번호이동(이탈)해 가는 문제를 해결하고자 합니다.\n",
    "* 그래서 에이블러 여러분에게, 어떤 고객이 번호이동(이탈)해 가는지 예측 모델링을 의뢰하였습니다."
   ]
  },
  {
   "cell_type": "markdown",
   "metadata": {
    "id": "ExPzmVxJGvxq"
   },
   "source": [
    "![](https://d18lkz4dllo6v2.cloudfront.net/cumulus_uploads/entry/23964/mobile%20phones.png)"
   ]
  },
  {
   "cell_type": "markdown",
   "metadata": {
    "id": "AHmt88Q5EVsj"
   },
   "source": [
    "## 0.환경설정"
   ]
  },
  {
   "cell_type": "markdown",
   "metadata": {
    "id": "KnzVh2LmkLDU"
   },
   "source": [
    "### 1) 라이브러리 로딩"
   ]
  },
  {
   "cell_type": "code",
   "execution_count": 1,
   "metadata": {
    "id": "3tWsgb_wG3EU"
   },
   "outputs": [],
   "source": [
    "import pandas as pd\n",
    "import numpy as np\n",
    "import matplotlib.pyplot as plt\n",
    "import seaborn as sns\n",
    "\n",
    "from sklearn.model_selection import train_test_split"
   ]
  },
  {
   "cell_type": "markdown",
   "metadata": {
    "id": "kcMdP5WtG3EV"
   },
   "source": [
    "### 2) 데이터 로딩"
   ]
  },
  {
   "cell_type": "code",
   "execution_count": 2,
   "metadata": {
    "id": "AC_65VsoG3EV"
   },
   "outputs": [
    {
     "data": {
      "text/html": [
       "<div>\n",
       "<style scoped>\n",
       "    .dataframe tbody tr th:only-of-type {\n",
       "        vertical-align: middle;\n",
       "    }\n",
       "\n",
       "    .dataframe tbody tr th {\n",
       "        vertical-align: top;\n",
       "    }\n",
       "\n",
       "    .dataframe thead th {\n",
       "        text-align: right;\n",
       "    }\n",
       "</style>\n",
       "<table border=\"1\" class=\"dataframe\">\n",
       "  <thead>\n",
       "    <tr style=\"text-align: right;\">\n",
       "      <th></th>\n",
       "      <th>id</th>\n",
       "      <th>COLLEGE</th>\n",
       "      <th>INCOME</th>\n",
       "      <th>OVERAGE</th>\n",
       "      <th>LEFTOVER</th>\n",
       "      <th>HOUSE</th>\n",
       "      <th>HANDSET_PRICE</th>\n",
       "      <th>OVER_15MINS_CALLS_PER_MONTH</th>\n",
       "      <th>AVERAGE_CALL_DURATION</th>\n",
       "      <th>REPORTED_SATISFACTION</th>\n",
       "      <th>REPORTED_USAGE_LEVEL</th>\n",
       "      <th>CONSIDERING_CHANGE_OF_PLAN</th>\n",
       "      <th>CHURN</th>\n",
       "    </tr>\n",
       "  </thead>\n",
       "  <tbody>\n",
       "    <tr>\n",
       "      <th>0</th>\n",
       "      <td>544</td>\n",
       "      <td>1</td>\n",
       "      <td>47711</td>\n",
       "      <td>183</td>\n",
       "      <td>17</td>\n",
       "      <td>730589.0</td>\n",
       "      <td>192</td>\n",
       "      <td>19</td>\n",
       "      <td>5</td>\n",
       "      <td>unsat</td>\n",
       "      <td>little</td>\n",
       "      <td>considering</td>\n",
       "      <td>0</td>\n",
       "    </tr>\n",
       "    <tr>\n",
       "      <th>1</th>\n",
       "      <td>689</td>\n",
       "      <td>0</td>\n",
       "      <td>74132</td>\n",
       "      <td>191</td>\n",
       "      <td>43</td>\n",
       "      <td>535092.0</td>\n",
       "      <td>349</td>\n",
       "      <td>15</td>\n",
       "      <td>2</td>\n",
       "      <td>unsat</td>\n",
       "      <td>very_little</td>\n",
       "      <td>no</td>\n",
       "      <td>1</td>\n",
       "    </tr>\n",
       "    <tr>\n",
       "      <th>2</th>\n",
       "      <td>3134</td>\n",
       "      <td>1</td>\n",
       "      <td>150419</td>\n",
       "      <td>0</td>\n",
       "      <td>14</td>\n",
       "      <td>204004.0</td>\n",
       "      <td>682</td>\n",
       "      <td>0</td>\n",
       "      <td>6</td>\n",
       "      <td>unsat</td>\n",
       "      <td>very_high</td>\n",
       "      <td>considering</td>\n",
       "      <td>0</td>\n",
       "    </tr>\n",
       "    <tr>\n",
       "      <th>3</th>\n",
       "      <td>12523</td>\n",
       "      <td>0</td>\n",
       "      <td>159567</td>\n",
       "      <td>0</td>\n",
       "      <td>58</td>\n",
       "      <td>281969.0</td>\n",
       "      <td>634</td>\n",
       "      <td>1</td>\n",
       "      <td>1</td>\n",
       "      <td>very_unsat</td>\n",
       "      <td>very_high</td>\n",
       "      <td>never_thought</td>\n",
       "      <td>0</td>\n",
       "    </tr>\n",
       "    <tr>\n",
       "      <th>4</th>\n",
       "      <td>2374</td>\n",
       "      <td>1</td>\n",
       "      <td>23392</td>\n",
       "      <td>0</td>\n",
       "      <td>0</td>\n",
       "      <td>216707.0</td>\n",
       "      <td>233</td>\n",
       "      <td>0</td>\n",
       "      <td>15</td>\n",
       "      <td>unsat</td>\n",
       "      <td>very_little</td>\n",
       "      <td>no</td>\n",
       "      <td>1</td>\n",
       "    </tr>\n",
       "  </tbody>\n",
       "</table>\n",
       "</div>"
      ],
      "text/plain": [
       "      id  COLLEGE  INCOME  OVERAGE  LEFTOVER     HOUSE  HANDSET_PRICE  \\\n",
       "0    544        1   47711      183        17  730589.0            192   \n",
       "1    689        0   74132      191        43  535092.0            349   \n",
       "2   3134        1  150419        0        14  204004.0            682   \n",
       "3  12523        0  159567        0        58  281969.0            634   \n",
       "4   2374        1   23392        0         0  216707.0            233   \n",
       "\n",
       "   OVER_15MINS_CALLS_PER_MONTH  AVERAGE_CALL_DURATION REPORTED_SATISFACTION  \\\n",
       "0                           19                      5                 unsat   \n",
       "1                           15                      2                 unsat   \n",
       "2                            0                      6                 unsat   \n",
       "3                            1                      1            very_unsat   \n",
       "4                            0                     15                 unsat   \n",
       "\n",
       "  REPORTED_USAGE_LEVEL CONSIDERING_CHANGE_OF_PLAN  CHURN  \n",
       "0               little                considering      0  \n",
       "1          very_little                         no      1  \n",
       "2            very_high                considering      0  \n",
       "3            very_high              never_thought      0  \n",
       "4          very_little                         no      1  "
      ]
     },
     "execution_count": 2,
     "metadata": {},
     "output_type": "execute_result"
    }
   ],
   "source": [
    "# mobile data\n",
    "data_path = \"https://raw.githubusercontent.com/DA4BAM/dataset/master/mobile_NA2.csv\"\n",
    "data = pd.read_csv(data_path)\n",
    "data.head()"
   ]
  },
  {
   "cell_type": "markdown",
   "metadata": {
    "id": "2VGIfdrXAvw_"
   },
   "source": [
    "|변수 명|내용|구분|\n",
    "|\t----\t|\t----\t|\t----\t|\n",
    "|\tCOLLEGE\t|\t대학졸업 여부(1,0) - 범주\t|\t\t|\n",
    "|\tINCOME\t|\t연 수입액(달러)\t|\t\t|\n",
    "|\tOVERAGE\t|\t월 초과사용 시간(분)\t|\t\t|\n",
    "|\tLEFTOVER\t|\t월 사용 잔여시간비율(%)\t|\t\t|\n",
    "|\tHOUSE\t|\t집 가격(달러)\t|\t\t|\n",
    "|\tHANDSET_PRICE\t|\t핸드폰 가격(달러)\t|\t\t|\n",
    "|\tOVER_15MINS_CALLS_PER_MONTH\t|\t 평균 장기통화(15분 이상) 횟수\t|\t\t|\n",
    "|\tAVERAGE_CALL_DURATION\t|\t평균 통화시간(분)\t|\t\t|\n",
    "|\tREPORTED_SATISFACTION\t|\t만족도 설문('very_unsat', 'unsat', 'avg', 'sat', 'very_sat' ) - 범주\t|\t\t|\n",
    "|\tREPORTED_USAGE_LEVEL\t|\t사용 수준 설문('very_little', 'little', 'avg', 'high', 'very_high') - 범주\t|\t\t|\n",
    "|\tCONSIDERING_CHANGE_OF_PLAN\t|\t변경 계획 설문('never_thought', 'no', 'perhaps', 'considering',   'actively_looking_into_it') - 범주\t|\t\t|\n",
    "|\t**CHURN**\t|\t이탈여부(1 : 이탈, 0 : 잔류)\t|\t**Target**\t|\n"
   ]
  },
  {
   "cell_type": "markdown",
   "metadata": {
    "id": "bKimk8qVm8oC"
   },
   "source": [
    "----"
   ]
  },
  {
   "cell_type": "markdown",
   "metadata": {
    "id": "0bouXLxGkSSd"
   },
   "source": [
    "## 1.데이터 탐색"
   ]
  },
  {
   "cell_type": "code",
   "execution_count": 3,
   "metadata": {},
   "outputs": [
    {
     "data": {
      "image/png": "[encoded data removed]",
      "text/plain": [
       "<Figure size 576x360 with 2 Axes>"
      ]
     },
     "metadata": {
      "needs_background": "light"
     },
     "output_type": "display_data"
    }
   ],
   "source": [
    "plt.figure(figsize=(8, 5))\n",
    "sns.heatmap(data.corr(), annot=True, cmap='Blues')\n",
    "plt.show()"
   ]
  },
  {
   "cell_type": "markdown",
   "metadata": {
    "id": "PRXJWyibZTJN"
   },
   "source": [
    "## 2.데이터 전처리 "
   ]
  },
  {
   "cell_type": "code",
   "execution_count": 4,
   "metadata": {
    "id": "vtn0hI98urCt"
   },
   "outputs": [],
   "source": [
    "target = 'CHURN'"
   ]
  },
  {
   "cell_type": "markdown",
   "metadata": {
    "id": "OftPNXa1EPeV"
   },
   "source": [
    "### 2.1 데이터 정리"
   ]
  },
  {
   "cell_type": "markdown",
   "metadata": {
    "id": "mk_WSjzdnLLE"
   },
   "source": [
    "* feature와 , target으로 분할"
   ]
  },
  {
   "cell_type": "code",
   "execution_count": 5,
   "metadata": {
    "id": "hKx1tqpEEPeV"
   },
   "outputs": [],
   "source": [
    "x = data.drop(target, axis = 1)\n",
    "y = data.loc[:, target]"
   ]
  },
  {
   "cell_type": "code",
   "execution_count": 6,
   "metadata": {},
   "outputs": [
    {
     "data": {
      "text/plain": [
       "12"
      ]
     },
     "execution_count": 6,
     "metadata": {},
     "output_type": "execute_result"
    }
   ],
   "source": [
    "len(x.columns)"
   ]
  },
  {
   "cell_type": "code",
   "execution_count": 7,
   "metadata": {},
   "outputs": [
    {
     "data": {
      "text/plain": [
       "id                       0.003499\n",
       "COLLEGE                  0.016748\n",
       "LEFTOVER                 0.060022\n",
       "AVERAGE_CALL_DURATION   -0.006333\n",
       "Name: CHURN, dtype: float64"
      ]
     },
     "execution_count": 7,
     "metadata": {},
     "output_type": "execute_result"
    }
   ],
   "source": [
    "# 타겟인 이탈여부와 연관성으로 확인했을때 연관성이 0.08을 기준으로 잡고 관련이 없는 컬럼들 확인\n",
    "data.corr()[abs(data.corr()[target])<0.08][target]"
   ]
  },
  {
   "cell_type": "code",
   "execution_count": 8,
   "metadata": {},
   "outputs": [],
   "source": [
    "dum_col = ['id', 'COLLEGE', 'LEFTOVER', 'AVERAGE_CALL_DURATION']\n",
    "x.drop(dum_col, axis=1, inplace=True)"
   ]
  },
  {
   "cell_type": "code",
   "execution_count": 9,
   "metadata": {},
   "outputs": [
    {
     "data": {
      "text/html": [
       "<div>\n",
       "<style scoped>\n",
       "    .dataframe tbody tr th:only-of-type {\n",
       "        vertical-align: middle;\n",
       "    }\n",
       "\n",
       "    .dataframe tbody tr th {\n",
       "        vertical-align: top;\n",
       "    }\n",
       "\n",
       "    .dataframe thead th {\n",
       "        text-align: right;\n",
       "    }\n",
       "</style>\n",
       "<table border=\"1\" class=\"dataframe\">\n",
       "  <thead>\n",
       "    <tr style=\"text-align: right;\">\n",
       "      <th></th>\n",
       "      <th>INCOME</th>\n",
       "      <th>OVERAGE</th>\n",
       "      <th>HOUSE</th>\n",
       "      <th>HANDSET_PRICE</th>\n",
       "      <th>OVER_15MINS_CALLS_PER_MONTH</th>\n",
       "      <th>REPORTED_SATISFACTION</th>\n",
       "      <th>REPORTED_USAGE_LEVEL</th>\n",
       "      <th>CONSIDERING_CHANGE_OF_PLAN</th>\n",
       "    </tr>\n",
       "  </thead>\n",
       "  <tbody>\n",
       "    <tr>\n",
       "      <th>0</th>\n",
       "      <td>47711</td>\n",
       "      <td>183</td>\n",
       "      <td>730589.0</td>\n",
       "      <td>192</td>\n",
       "      <td>19</td>\n",
       "      <td>unsat</td>\n",
       "      <td>little</td>\n",
       "      <td>considering</td>\n",
       "    </tr>\n",
       "    <tr>\n",
       "      <th>1</th>\n",
       "      <td>74132</td>\n",
       "      <td>191</td>\n",
       "      <td>535092.0</td>\n",
       "      <td>349</td>\n",
       "      <td>15</td>\n",
       "      <td>unsat</td>\n",
       "      <td>very_little</td>\n",
       "      <td>no</td>\n",
       "    </tr>\n",
       "  </tbody>\n",
       "</table>\n",
       "</div>"
      ],
      "text/plain": [
       "   INCOME  OVERAGE     HOUSE  HANDSET_PRICE  OVER_15MINS_CALLS_PER_MONTH  \\\n",
       "0   47711      183  730589.0            192                           19   \n",
       "1   74132      191  535092.0            349                           15   \n",
       "\n",
       "  REPORTED_SATISFACTION REPORTED_USAGE_LEVEL CONSIDERING_CHANGE_OF_PLAN  \n",
       "0                 unsat               little                considering  \n",
       "1                 unsat          very_little                         no  "
      ]
     },
     "execution_count": 9,
     "metadata": {},
     "output_type": "execute_result"
    }
   ],
   "source": [
    "x.head(2)"
   ]
  },
  {
   "cell_type": "code",
   "execution_count": 10,
   "metadata": {},
   "outputs": [
    {
     "data": {
      "text/plain": [
       "((18000, 8), (18000,))"
      ]
     },
     "execution_count": 10,
     "metadata": {},
     "output_type": "execute_result"
    }
   ],
   "source": [
    "x.shape,y.shape"
   ]
  },
  {
   "cell_type": "markdown",
   "metadata": {
    "id": "umpv1ug6ZTJO"
   },
   "source": [
    "### 2.2 NaN에 대한 조치"
   ]
  },
  {
   "cell_type": "markdown",
   "metadata": {
    "id": "sYVnI6HJOloF"
   },
   "source": [
    "- KNN IMPUTER로 채울 예정 - > 가변수화 진행 이후 (NULL에 해당하는 데이터중 가장 많은 비중을 차지하는 HOUSE인 집값은 평균값이나 중앙값으로 대체하기에 적절하지 않은 값이라 판단하여 KNN IMPUTER 를 사용하여 채운다. )"
   ]
  },
  {
   "cell_type": "code",
   "execution_count": 11,
   "metadata": {
    "id": "Z3s8KPvBOlgd"
   },
   "outputs": [
    {
     "data": {
      "text/plain": [
       "INCOME                           0\n",
       "OVERAGE                          0\n",
       "HOUSE                          215\n",
       "HANDSET_PRICE                    0\n",
       "OVER_15MINS_CALLS_PER_MONTH      0\n",
       "REPORTED_SATISFACTION           38\n",
       "REPORTED_USAGE_LEVEL             0\n",
       "CONSIDERING_CHANGE_OF_PLAN       0\n",
       "dtype: int64"
      ]
     },
     "execution_count": 11,
     "metadata": {},
     "output_type": "execute_result"
    }
   ],
   "source": [
    "x.isna().sum() # House 215, REPORTED_SATISFACTION 38건의 na"
   ]
  },
  {
   "cell_type": "code",
   "execution_count": 12,
   "metadata": {},
   "outputs": [
    {
     "name": "stdout",
     "output_type": "stream",
     "text": [
      "<class 'pandas.core.frame.DataFrame'>\n",
      "RangeIndex: 18000 entries, 0 to 17999\n",
      "Data columns (total 8 columns):\n",
      " #   Column                       Non-Null Count  Dtype  \n",
      "---  ------                       --------------  -----  \n",
      " 0   INCOME                       18000 non-null  int64  \n",
      " 1   OVERAGE                      18000 non-null  int64  \n",
      " 2   HOUSE                        17785 non-null  float64\n",
      " 3   HANDSET_PRICE                18000 non-null  int64  \n",
      " 4   OVER_15MINS_CALLS_PER_MONTH  18000 non-null  int64  \n",
      " 5   REPORTED_SATISFACTION        17962 non-null  object \n",
      " 6   REPORTED_USAGE_LEVEL         18000 non-null  object \n",
      " 7   CONSIDERING_CHANGE_OF_PLAN   18000 non-null  object \n",
      "dtypes: float64(1), int64(4), object(3)\n",
      "memory usage: 1.1+ MB\n"
     ]
    }
   ],
   "source": [
    "x.info()"
   ]
  },
  {
   "cell_type": "markdown",
   "metadata": {
    "id": "zFJ23LikV8A_"
   },
   "source": [
    "### 2.4 가변수화\n",
    "* 범주형 데이터이면서 값이 0,1 로 되어 있는 것이 아니라면, 가변수화를 수행"
   ]
  },
  {
   "cell_type": "code",
   "execution_count": 13,
   "metadata": {},
   "outputs": [
    {
     "data": {
      "text/html": [
       "<div>\n",
       "<style scoped>\n",
       "    .dataframe tbody tr th:only-of-type {\n",
       "        vertical-align: middle;\n",
       "    }\n",
       "\n",
       "    .dataframe tbody tr th {\n",
       "        vertical-align: top;\n",
       "    }\n",
       "\n",
       "    .dataframe thead th {\n",
       "        text-align: right;\n",
       "    }\n",
       "</style>\n",
       "<table border=\"1\" class=\"dataframe\">\n",
       "  <thead>\n",
       "    <tr style=\"text-align: right;\">\n",
       "      <th></th>\n",
       "      <th>INCOME</th>\n",
       "      <th>OVERAGE</th>\n",
       "      <th>HOUSE</th>\n",
       "      <th>HANDSET_PRICE</th>\n",
       "      <th>OVER_15MINS_CALLS_PER_MONTH</th>\n",
       "      <th>REPORTED_SATISFACTION</th>\n",
       "      <th>REPORTED_USAGE_LEVEL</th>\n",
       "      <th>CONSIDERING_CHANGE_OF_PLAN</th>\n",
       "    </tr>\n",
       "  </thead>\n",
       "  <tbody>\n",
       "    <tr>\n",
       "      <th>0</th>\n",
       "      <td>47711</td>\n",
       "      <td>183</td>\n",
       "      <td>730589.0</td>\n",
       "      <td>192</td>\n",
       "      <td>19</td>\n",
       "      <td>unsat</td>\n",
       "      <td>little</td>\n",
       "      <td>considering</td>\n",
       "    </tr>\n",
       "    <tr>\n",
       "      <th>1</th>\n",
       "      <td>74132</td>\n",
       "      <td>191</td>\n",
       "      <td>535092.0</td>\n",
       "      <td>349</td>\n",
       "      <td>15</td>\n",
       "      <td>unsat</td>\n",
       "      <td>very_little</td>\n",
       "      <td>no</td>\n",
       "    </tr>\n",
       "    <tr>\n",
       "      <th>2</th>\n",
       "      <td>150419</td>\n",
       "      <td>0</td>\n",
       "      <td>204004.0</td>\n",
       "      <td>682</td>\n",
       "      <td>0</td>\n",
       "      <td>unsat</td>\n",
       "      <td>very_high</td>\n",
       "      <td>considering</td>\n",
       "    </tr>\n",
       "  </tbody>\n",
       "</table>\n",
       "</div>"
      ],
      "text/plain": [
       "   INCOME  OVERAGE     HOUSE  HANDSET_PRICE  OVER_15MINS_CALLS_PER_MONTH  \\\n",
       "0   47711      183  730589.0            192                           19   \n",
       "1   74132      191  535092.0            349                           15   \n",
       "2  150419        0  204004.0            682                            0   \n",
       "\n",
       "  REPORTED_SATISFACTION REPORTED_USAGE_LEVEL CONSIDERING_CHANGE_OF_PLAN  \n",
       "0                 unsat               little                considering  \n",
       "1                 unsat          very_little                         no  \n",
       "2                 unsat            very_high                considering  "
      ]
     },
     "execution_count": 13,
     "metadata": {},
     "output_type": "execute_result"
    }
   ],
   "source": [
    "x.head(3)"
   ]
  },
  {
   "cell_type": "code",
   "execution_count": 14,
   "metadata": {
    "id": "1AAfzPjeOm8x"
   },
   "outputs": [
    {
     "data": {
      "text/html": [
       "<div>\n",
       "<style scoped>\n",
       "    .dataframe tbody tr th:only-of-type {\n",
       "        vertical-align: middle;\n",
       "    }\n",
       "\n",
       "    .dataframe tbody tr th {\n",
       "        vertical-align: top;\n",
       "    }\n",
       "\n",
       "    .dataframe thead th {\n",
       "        text-align: right;\n",
       "    }\n",
       "</style>\n",
       "<table border=\"1\" class=\"dataframe\">\n",
       "  <thead>\n",
       "    <tr style=\"text-align: right;\">\n",
       "      <th></th>\n",
       "      <th>INCOME</th>\n",
       "      <th>OVERAGE</th>\n",
       "      <th>HOUSE</th>\n",
       "      <th>HANDSET_PRICE</th>\n",
       "      <th>OVER_15MINS_CALLS_PER_MONTH</th>\n",
       "      <th>REPORTED_SATISFACTION_sat</th>\n",
       "      <th>REPORTED_SATISFACTION_unsat</th>\n",
       "      <th>REPORTED_SATISFACTION_very_sat</th>\n",
       "      <th>REPORTED_SATISFACTION_very_unsat</th>\n",
       "      <th>REPORTED_USAGE_LEVEL_high</th>\n",
       "      <th>REPORTED_USAGE_LEVEL_little</th>\n",
       "      <th>REPORTED_USAGE_LEVEL_very_high</th>\n",
       "      <th>REPORTED_USAGE_LEVEL_very_little</th>\n",
       "      <th>CONSIDERING_CHANGE_OF_PLAN_considering</th>\n",
       "      <th>CONSIDERING_CHANGE_OF_PLAN_never_thought</th>\n",
       "      <th>CONSIDERING_CHANGE_OF_PLAN_no</th>\n",
       "      <th>CONSIDERING_CHANGE_OF_PLAN_perhaps</th>\n",
       "    </tr>\n",
       "  </thead>\n",
       "  <tbody>\n",
       "    <tr>\n",
       "      <th>0</th>\n",
       "      <td>47711</td>\n",
       "      <td>183</td>\n",
       "      <td>730589.0</td>\n",
       "      <td>192</td>\n",
       "      <td>19</td>\n",
       "      <td>0</td>\n",
       "      <td>1</td>\n",
       "      <td>0</td>\n",
       "      <td>0</td>\n",
       "      <td>0</td>\n",
       "      <td>1</td>\n",
       "      <td>0</td>\n",
       "      <td>0</td>\n",
       "      <td>1</td>\n",
       "      <td>0</td>\n",
       "      <td>0</td>\n",
       "      <td>0</td>\n",
       "    </tr>\n",
       "    <tr>\n",
       "      <th>1</th>\n",
       "      <td>74132</td>\n",
       "      <td>191</td>\n",
       "      <td>535092.0</td>\n",
       "      <td>349</td>\n",
       "      <td>15</td>\n",
       "      <td>0</td>\n",
       "      <td>1</td>\n",
       "      <td>0</td>\n",
       "      <td>0</td>\n",
       "      <td>0</td>\n",
       "      <td>0</td>\n",
       "      <td>0</td>\n",
       "      <td>1</td>\n",
       "      <td>0</td>\n",
       "      <td>0</td>\n",
       "      <td>1</td>\n",
       "      <td>0</td>\n",
       "    </tr>\n",
       "    <tr>\n",
       "      <th>2</th>\n",
       "      <td>150419</td>\n",
       "      <td>0</td>\n",
       "      <td>204004.0</td>\n",
       "      <td>682</td>\n",
       "      <td>0</td>\n",
       "      <td>0</td>\n",
       "      <td>1</td>\n",
       "      <td>0</td>\n",
       "      <td>0</td>\n",
       "      <td>0</td>\n",
       "      <td>0</td>\n",
       "      <td>1</td>\n",
       "      <td>0</td>\n",
       "      <td>1</td>\n",
       "      <td>0</td>\n",
       "      <td>0</td>\n",
       "      <td>0</td>\n",
       "    </tr>\n",
       "    <tr>\n",
       "      <th>3</th>\n",
       "      <td>159567</td>\n",
       "      <td>0</td>\n",
       "      <td>281969.0</td>\n",
       "      <td>634</td>\n",
       "      <td>1</td>\n",
       "      <td>0</td>\n",
       "      <td>0</td>\n",
       "      <td>0</td>\n",
       "      <td>1</td>\n",
       "      <td>0</td>\n",
       "      <td>0</td>\n",
       "      <td>1</td>\n",
       "      <td>0</td>\n",
       "      <td>0</td>\n",
       "      <td>1</td>\n",
       "      <td>0</td>\n",
       "      <td>0</td>\n",
       "    </tr>\n",
       "    <tr>\n",
       "      <th>4</th>\n",
       "      <td>23392</td>\n",
       "      <td>0</td>\n",
       "      <td>216707.0</td>\n",
       "      <td>233</td>\n",
       "      <td>0</td>\n",
       "      <td>0</td>\n",
       "      <td>1</td>\n",
       "      <td>0</td>\n",
       "      <td>0</td>\n",
       "      <td>0</td>\n",
       "      <td>0</td>\n",
       "      <td>0</td>\n",
       "      <td>1</td>\n",
       "      <td>0</td>\n",
       "      <td>0</td>\n",
       "      <td>1</td>\n",
       "      <td>0</td>\n",
       "    </tr>\n",
       "  </tbody>\n",
       "</table>\n",
       "</div>"
      ],
      "text/plain": [
       "   INCOME  OVERAGE     HOUSE  HANDSET_PRICE  OVER_15MINS_CALLS_PER_MONTH  \\\n",
       "0   47711      183  730589.0            192                           19   \n",
       "1   74132      191  535092.0            349                           15   \n",
       "2  150419        0  204004.0            682                            0   \n",
       "3  159567        0  281969.0            634                            1   \n",
       "4   23392        0  216707.0            233                            0   \n",
       "\n",
       "   REPORTED_SATISFACTION_sat  REPORTED_SATISFACTION_unsat  \\\n",
       "0                          0                            1   \n",
       "1                          0                            1   \n",
       "2                          0                            1   \n",
       "3                          0                            0   \n",
       "4                          0                            1   \n",
       "\n",
       "   REPORTED_SATISFACTION_very_sat  REPORTED_SATISFACTION_very_unsat  \\\n",
       "0                               0                                 0   \n",
       "1                               0                                 0   \n",
       "2                               0                                 0   \n",
       "3                               0                                 1   \n",
       "4                               0                                 0   \n",
       "\n",
       "   REPORTED_USAGE_LEVEL_high  REPORTED_USAGE_LEVEL_little  \\\n",
       "0                          0                            1   \n",
       "1                          0                            0   \n",
       "2                          0                            0   \n",
       "3                          0                            0   \n",
       "4                          0                            0   \n",
       "\n",
       "   REPORTED_USAGE_LEVEL_very_high  REPORTED_USAGE_LEVEL_very_little  \\\n",
       "0                               0                                 0   \n",
       "1                               0                                 1   \n",
       "2                               1                                 0   \n",
       "3                               1                                 0   \n",
       "4                               0                                 1   \n",
       "\n",
       "   CONSIDERING_CHANGE_OF_PLAN_considering  \\\n",
       "0                                       1   \n",
       "1                                       0   \n",
       "2                                       1   \n",
       "3                                       0   \n",
       "4                                       0   \n",
       "\n",
       "   CONSIDERING_CHANGE_OF_PLAN_never_thought  CONSIDERING_CHANGE_OF_PLAN_no  \\\n",
       "0                                         0                              0   \n",
       "1                                         0                              1   \n",
       "2                                         0                              0   \n",
       "3                                         1                              0   \n",
       "4                                         0                              1   \n",
       "\n",
       "   CONSIDERING_CHANGE_OF_PLAN_perhaps  \n",
       "0                                   0  \n",
       "1                                   0  \n",
       "2                                   0  \n",
       "3                                   0  \n",
       "4                                   0  "
      ]
     },
     "execution_count": 14,
     "metadata": {},
     "output_type": "execute_result"
    }
   ],
   "source": [
    "dum_cols = ['REPORTED_SATISFACTION', 'REPORTED_USAGE_LEVEL', 'CONSIDERING_CHANGE_OF_PLAN']\n",
    "\n",
    "x = pd.get_dummies(x, columns = dum_cols ,drop_first = True)\n",
    "x.head()"
   ]
  },
  {
   "cell_type": "code",
   "execution_count": 15,
   "metadata": {
    "id": "UzJw24AWOm4v"
   },
   "outputs": [
    {
     "data": {
      "text/plain": [
       "INCOME                                      0\n",
       "OVERAGE                                     0\n",
       "HOUSE                                       0\n",
       "HANDSET_PRICE                               0\n",
       "OVER_15MINS_CALLS_PER_MONTH                 0\n",
       "REPORTED_SATISFACTION_sat                   0\n",
       "REPORTED_SATISFACTION_unsat                 0\n",
       "REPORTED_SATISFACTION_very_sat              0\n",
       "REPORTED_SATISFACTION_very_unsat            0\n",
       "REPORTED_USAGE_LEVEL_high                   0\n",
       "REPORTED_USAGE_LEVEL_little                 0\n",
       "REPORTED_USAGE_LEVEL_very_high              0\n",
       "REPORTED_USAGE_LEVEL_very_little            0\n",
       "CONSIDERING_CHANGE_OF_PLAN_considering      0\n",
       "CONSIDERING_CHANGE_OF_PLAN_never_thought    0\n",
       "CONSIDERING_CHANGE_OF_PLAN_no               0\n",
       "CONSIDERING_CHANGE_OF_PLAN_perhaps          0\n",
       "dtype: int64"
      ]
     },
     "execution_count": 15,
     "metadata": {},
     "output_type": "execute_result"
    }
   ],
   "source": [
    "# KNN imputer 를 통해 NA값 해결\n",
    "from sklearn.impute import KNNImputer\n",
    "\n",
    "imputer = KNNImputer(n_neighbors=5)\n",
    "imputed = imputer.fit_transform(x)\n",
    "\n",
    "# 데이터프레임으로 다시 만들기\n",
    "x = pd.DataFrame(imputed, columns=x.columns)\n",
    "x.isna().sum()"
   ]
  },
  {
   "cell_type": "code",
   "execution_count": 16,
   "metadata": {},
   "outputs": [
    {
     "name": "stdout",
     "output_type": "stream",
     "text": [
      "<class 'pandas.core.frame.DataFrame'>\n",
      "RangeIndex: 18000 entries, 0 to 17999\n",
      "Data columns (total 17 columns):\n",
      " #   Column                                    Non-Null Count  Dtype  \n",
      "---  ------                                    --------------  -----  \n",
      " 0   INCOME                                    18000 non-null  float64\n",
      " 1   OVERAGE                                   18000 non-null  float64\n",
      " 2   HOUSE                                     18000 non-null  float64\n",
      " 3   HANDSET_PRICE                             18000 non-null  float64\n",
      " 4   OVER_15MINS_CALLS_PER_MONTH               18000 non-null  float64\n",
      " 5   REPORTED_SATISFACTION_sat                 18000 non-null  float64\n",
      " 6   REPORTED_SATISFACTION_unsat               18000 non-null  float64\n",
      " 7   REPORTED_SATISFACTION_very_sat            18000 non-null  float64\n",
      " 8   REPORTED_SATISFACTION_very_unsat          18000 non-null  float64\n",
      " 9   REPORTED_USAGE_LEVEL_high                 18000 non-null  float64\n",
      " 10  REPORTED_USAGE_LEVEL_little               18000 non-null  float64\n",
      " 11  REPORTED_USAGE_LEVEL_very_high            18000 non-null  float64\n",
      " 12  REPORTED_USAGE_LEVEL_very_little          18000 non-null  float64\n",
      " 13  CONSIDERING_CHANGE_OF_PLAN_considering    18000 non-null  float64\n",
      " 14  CONSIDERING_CHANGE_OF_PLAN_never_thought  18000 non-null  float64\n",
      " 15  CONSIDERING_CHANGE_OF_PLAN_no             18000 non-null  float64\n",
      " 16  CONSIDERING_CHANGE_OF_PLAN_perhaps        18000 non-null  float64\n",
      "dtypes: float64(17)\n",
      "memory usage: 2.3 MB\n"
     ]
    }
   ],
   "source": [
    "x.info()"
   ]
  },
  {
   "cell_type": "code",
   "execution_count": 17,
   "metadata": {},
   "outputs": [
    {
     "data": {
      "text/plain": [
       "((18000, 17), (18000,))"
      ]
     },
     "execution_count": 17,
     "metadata": {},
     "output_type": "execute_result"
    }
   ],
   "source": [
    "x.shape, y.shape"
   ]
  },
  {
   "cell_type": "markdown",
   "metadata": {
    "id": "2Lwk03PSZTJP"
   },
   "source": [
    "### 2.5 (옵션)스케일링 "
   ]
  },
  {
   "cell_type": "code",
   "execution_count": 36,
   "metadata": {
    "id": "SmHfm-Z8OoC3"
   },
   "outputs": [],
   "source": [
    "x = (x - x.min()) / (x.max() - x.min())\n",
    "# x.max(), x.min()\n",
    "# x.info()"
   ]
  },
  {
   "cell_type": "code",
   "execution_count": 21,
   "metadata": {},
   "outputs": [
    {
     "data": {
      "text/plain": [
       "(0.0, 1.0, -1.4292350019651234e-05, 1.0002787008253833)"
      ]
     },
     "execution_count": 21,
     "metadata": {},
     "output_type": "execute_result"
    }
   ],
   "source": [
    "# import tensorflow as tf\n",
    "# from tensorflow import keras\n",
    "# import sklearn\n",
    "# from sklearn.preprocessing import MinMaxScaler\n",
    "\n",
    "# scaler = MinMaxScaler()\n",
    "# x_train = scaler.fit_transform(x_train)\n",
    "# x_test = (x_test - x_train.min()) / (x_train.max() - x_train.min())\n",
    "# x_train.min(), x_train.max(), x_test.min(), x_test.max()"
   ]
  },
  {
   "cell_type": "markdown",
   "metadata": {
    "id": "aODppuvooQzl"
   },
   "source": [
    "### 2.6 데이터 분할"
   ]
  },
  {
   "cell_type": "code",
   "execution_count": 19,
   "metadata": {
    "id": "f-nWCy8QOn_P"
   },
   "outputs": [],
   "source": [
    "### data ==> train, test\n",
    "x_train, x_test, y_train, y_test = train_test_split(x, y, test_size=3000, random_state = 2022)"
   ]
  },
  {
   "cell_type": "code",
   "execution_count": 38,
   "metadata": {
    "id": "oAVSU7XucCvn"
   },
   "outputs": [],
   "source": [
    "# train ==> train : val\n",
    "x_train, x_val, y_train, y_val = train_test_split(x_train, y_train, test_size=3000, random_state = 2022)"
   ]
  },
  {
   "cell_type": "code",
   "execution_count": 40,
   "metadata": {},
   "outputs": [
    {
     "data": {
      "text/plain": [
       "((12000, 17), (3000, 17), (3000, 17))"
      ]
     },
     "execution_count": 40,
     "metadata": {},
     "output_type": "execute_result"
    }
   ],
   "source": [
    "x_train.shape, x_test.shape, x_val.shape"
   ]
  },
  {
   "cell_type": "code",
   "execution_count": 42,
   "metadata": {},
   "outputs": [
    {
     "name": "stdout",
     "output_type": "stream",
     "text": [
      "<class 'pandas.core.frame.DataFrame'>\n",
      "RangeIndex: 18000 entries, 0 to 17999\n",
      "Data columns (total 17 columns):\n",
      " #   Column                                    Non-Null Count  Dtype  \n",
      "---  ------                                    --------------  -----  \n",
      " 0   INCOME                                    18000 non-null  float64\n",
      " 1   OVERAGE                                   18000 non-null  float64\n",
      " 2   HOUSE                                     18000 non-null  float64\n",
      " 3   HANDSET_PRICE                             18000 non-null  float64\n",
      " 4   OVER_15MINS_CALLS_PER_MONTH               18000 non-null  float64\n",
      " 5   REPORTED_SATISFACTION_sat                 18000 non-null  float64\n",
      " 6   REPORTED_SATISFACTION_unsat               18000 non-null  float64\n",
      " 7   REPORTED_SATISFACTION_very_sat            18000 non-null  float64\n",
      " 8   REPORTED_SATISFACTION_very_unsat          18000 non-null  float64\n",
      " 9   REPORTED_USAGE_LEVEL_high                 18000 non-null  float64\n",
      " 10  REPORTED_USAGE_LEVEL_little               18000 non-null  float64\n",
      " 11  REPORTED_USAGE_LEVEL_very_high            18000 non-null  float64\n",
      " 12  REPORTED_USAGE_LEVEL_very_little          18000 non-null  float64\n",
      " 13  CONSIDERING_CHANGE_OF_PLAN_considering    18000 non-null  float64\n",
      " 14  CONSIDERING_CHANGE_OF_PLAN_never_thought  18000 non-null  float64\n",
      " 15  CONSIDERING_CHANGE_OF_PLAN_no             18000 non-null  float64\n",
      " 16  CONSIDERING_CHANGE_OF_PLAN_perhaps        18000 non-null  float64\n",
      "dtypes: float64(17)\n",
      "memory usage: 2.3 MB\n"
     ]
    }
   ],
   "source": [
    "x.head(3)\n",
    "x.info()"
   ]
  },
  {
   "cell_type": "markdown",
   "metadata": {
    "id": "ZghJJ7yLEpDA"
   },
   "source": [
    "## 3.모델링1 : 머신러닝"
   ]
  },
  {
   "cell_type": "markdown",
   "metadata": {
    "id": "NFDAfi7-5Xhu"
   },
   "source": [
    "### 3.1 모델링을 위한 함수 불러오기"
   ]
  },
  {
   "cell_type": "code",
   "execution_count": 43,
   "metadata": {
    "id": "zlHHnr2-5cwD"
   },
   "outputs": [],
   "source": [
    "from sklearn.linear_model import LinearRegression\n",
    "from sklearn.neighbors import KNeighborsRegressor\n",
    "from sklearn.tree import DecisionTreeRegressor\n",
    "from sklearn.ensemble import RandomForestRegressor\n",
    "from sklearn.svm import SVR\n",
    "from xgboost import XGBRegressor\n",
    "\n",
    "from sklearn.model_selection import GridSearchCV, RandomizedSearchCV\n",
    "\n",
    "from sklearn.metrics import mean_absolute_error"
   ]
  },
  {
   "cell_type": "markdown",
   "metadata": {
    "id": "6K1mZKlXByLy"
   },
   "source": [
    "### 3.2 모델링"
   ]
  },
  {
   "cell_type": "code",
   "execution_count": 44,
   "metadata": {},
   "outputs": [],
   "source": [
    "mod = {}"
   ]
  },
  {
   "cell_type": "code",
   "execution_count": 46,
   "metadata": {},
   "outputs": [
    {
     "data": {
      "text/plain": [
       "((12000, 17), (3000, 17), (3000, 17))"
      ]
     },
     "execution_count": 46,
     "metadata": {},
     "output_type": "execute_result"
    }
   ],
   "source": [
    "x_train.shape, x_test.shape, x_val.shape"
   ]
  },
  {
   "cell_type": "markdown",
   "metadata": {
    "id": "VBBpa7BjL6Lj"
   },
   "source": [
    "#### (1) Linear Regression 모델"
   ]
  },
  {
   "cell_type": "code",
   "execution_count": 57,
   "metadata": {
    "id": "qvry7Ns-OtqH"
   },
   "outputs": [],
   "source": [
    "model = LinearRegression()"
   ]
  },
  {
   "cell_type": "code",
   "execution_count": 58,
   "metadata": {
    "id": "W3kInz1eOuL_"
   },
   "outputs": [
    {
     "data": {
      "text/plain": [
       "LinearRegression()"
      ]
     },
     "execution_count": 58,
     "metadata": {},
     "output_type": "execute_result"
    }
   ],
   "source": [
    "model.fit(x_train,y_train)"
   ]
  },
  {
   "cell_type": "code",
   "execution_count": 59,
   "metadata": {},
   "outputs": [
    {
     "name": "stdout",
     "output_type": "stream",
     "text": [
      "[ 0.103  0.373 -0.354  0.067  0.097 -0.018  0.024  0.01   0.019 -0.043\n",
      " -0.029 -0.018 -0.023  0.009  0.001  0.02   0.057]\n",
      "0.446\n"
     ]
    }
   ],
   "source": [
    "# print(list(x_train))\n",
    "print(model.coef_.round(3))\n",
    "print(model.intercept_.round(3))"
   ]
  },
  {
   "cell_type": "code",
   "execution_count": 60,
   "metadata": {
    "id": "ix3jWeElOtmX"
   },
   "outputs": [
    {
     "name": "stdout",
     "output_type": "stream",
     "text": [
      "0.44184137377344107\n"
     ]
    }
   ],
   "source": [
    "y_pred_lr = model.predict(x_val)\n",
    "print(mean_absolute_error(y_val, y_pred_lr))\n",
    "mod['Linear Regression'] = mean_absolute_error(y_val, y_pred_lr)"
   ]
  },
  {
   "cell_type": "code",
   "execution_count": 61,
   "metadata": {},
   "outputs": [
    {
     "data": {
      "image/png": "[encoded data removed]",
      "text/plain": [
       "<Figure size 432x288 with 1 Axes>"
      ]
     },
     "metadata": {
      "needs_background": "light"
     },
     "output_type": "display_data"
    }
   ],
   "source": [
    "plt.barh(y=list(x), width=model.coef_.reshape(-1))\n",
    "plt.show()\n",
    "# 집값과 초과사용시간이 고객이탈에 큰 영향이 있는것으로 파악됨"
   ]
  },
  {
   "cell_type": "markdown",
   "metadata": {
    "id": "90r0cCjwOvYY"
   },
   "source": [
    "#### (2) Decision Tree 모델"
   ]
  },
  {
   "cell_type": "code",
   "execution_count": 93,
   "metadata": {
    "id": "JP5YptL7OvYY"
   },
   "outputs": [],
   "source": [
    "m_dt = DecisionTreeRegressor(random_state= 2022)\n",
    "param = {'max_depth': range(1,5)}\n",
    "model = GridSearchCV(m_dt, param, cv=5, scoring='r2')"
   ]
  },
  {
   "cell_type": "code",
   "execution_count": 94,
   "metadata": {},
   "outputs": [
    {
     "data": {
      "text/plain": [
       "GridSearchCV(cv=5, estimator=DecisionTreeRegressor(random_state=2022),\n",
       "             param_grid={'max_depth': range(1, 5)}, scoring='r2')"
      ]
     },
     "execution_count": 94,
     "metadata": {},
     "output_type": "execute_result"
    }
   ],
   "source": [
    "model.fit(x_train,y_train)"
   ]
  },
  {
   "cell_type": "code",
   "execution_count": 95,
   "metadata": {},
   "outputs": [
    {
     "name": "stdout",
     "output_type": "stream",
     "text": [
      "0.4048562440461869\n"
     ]
    }
   ],
   "source": [
    "y_pred_dt = model.predict(x_val)\n",
    "print(mean_absolute_error(y_val, y_pred_dt))\n",
    "mod['Decision Tree'] = mean_absolute_error(y_val, y_pred_dt)"
   ]
  },
  {
   "cell_type": "code",
   "execution_count": 96,
   "metadata": {
    "id": "xp9R7JAfOvYY"
   },
   "outputs": [
    {
     "data": {
      "image/png": "[encoded data removed]",
      "text/plain": [
       "<Figure size 720x432 with 1 Axes>"
      ]
     },
     "metadata": {
      "needs_background": "light"
     },
     "output_type": "display_data"
    }
   ],
   "source": [
    "from sklearn.tree import plot_tree\n",
    "\n",
    "plt.figure(figsize=(10,6))\n",
    "plot_tree(model.best_estimator_,\n",
    "          filled=True,\n",
    "          feature_names=list(x),\n",
    "          fontsize=5\n",
    "         )\n",
    "plt.show()"
   ]
  },
  {
   "cell_type": "code",
   "execution_count": 83,
   "metadata": {
    "id": "4kDkaFxcOvYY"
   },
   "outputs": [
    {
     "data": {
      "image/png": "[encoded data removed]",
      "text/plain": [
       "<Figure size 432x288 with 1 Axes>"
      ]
     },
     "metadata": {
      "needs_background": "light"
     },
     "output_type": "display_data"
    }
   ],
   "source": [
    "plt.barh(y=list(x), width=model.best_estimator_.feature_importances_)\n",
    "plt.show()\n",
    "# 변수 중요도로 확인결과 고객이탈에는 초과통화사용시간, 수입, 집값 의 변수가 중요한 역할을 하는것으로 판단된다.\n",
    "# 돈과 관련된 각각의 변수들이며, 초과통화사용시간이 가장 큰 변수임으로 보아 이 변수와 연관된 EDA를 진행하여 고객이탈을 방지할수 있을것이라 판단된다."
   ]
  },
  {
   "cell_type": "code",
   "execution_count": 98,
   "metadata": {},
   "outputs": [],
   "source": [
    "train_mse, val_mse = [],[]\n",
    "\n",
    "depth = list(range(1,10))\n",
    "for d in depth :\n",
    "    model_dt = DecisionTreeRegressor(max_depth = d)\n",
    "    model_dt.fit(x_train, y_train)\n",
    "    train_pred_dt = model_dt.predict(x_train)\n",
    "    val_pred_dt = model_dt.predict(x_val)\n",
    "    train_mse.append(mean_absolute_error(y_train, train_pred_dt))\n",
    "    val_mse.append(mean_absolute_error(y_val, val_pred_dt))"
   ]
  },
  {
   "cell_type": "code",
   "execution_count": 99,
   "metadata": {},
   "outputs": [
    {
     "data": {
      "image/png": "[encoded data removed]",
      "text/plain": [
       "<Figure size 864x432 with 1 Axes>"
      ]
     },
     "metadata": {
      "needs_background": "light"
     },
     "output_type": "display_data"
    }
   ],
   "source": [
    "plt.figure(figsize = (12,6))\n",
    "plt.plot(depth, train_mse, label = 'train_mse')\n",
    "plt.plot(depth, val_mse, label = 'val_mse')\n",
    "plt.legend()\n",
    "plt.grid()\n",
    "plt.show()\n",
    "# 4.5 정도가 적당함임을 확인가능"
   ]
  },
  {
   "cell_type": "markdown",
   "metadata": {
    "id": "79nC_1brOw_d"
   },
   "source": [
    "#### (3) KNN 모델"
   ]
  },
  {
   "cell_type": "code",
   "execution_count": 86,
   "metadata": {
    "id": "OWrO87LaOw_d"
   },
   "outputs": [],
   "source": [
    "md_knn = KNeighborsRegressor()\n",
    "param = {'n_neighbors': range(5, 31)}\n",
    "\n",
    "model = GridSearchCV(md_knn, param, cv= 10, scoring='r2')"
   ]
  },
  {
   "cell_type": "code",
   "execution_count": 88,
   "metadata": {
    "id": "X2w9xuTxOw_e"
   },
   "outputs": [
    {
     "data": {
      "text/plain": [
       "GridSearchCV(cv=10, estimator=KNeighborsRegressor(),\n",
       "             param_grid={'n_neighbors': range(5, 31)}, scoring='r2')"
      ]
     },
     "execution_count": 88,
     "metadata": {},
     "output_type": "execute_result"
    }
   ],
   "source": [
    "model.fit(x_train, y_train)"
   ]
  },
  {
   "cell_type": "code",
   "execution_count": 91,
   "metadata": {
    "id": "Gu9S_e8HOw_e"
   },
   "outputs": [
    {
     "name": "stdout",
     "output_type": "stream",
     "text": [
      "{'n_neighbors': 30}\n",
      "0.08453620953656103\n"
     ]
    }
   ],
   "source": [
    "print(model.best_params_)\n",
    "print(model.best_score_)"
   ]
  },
  {
   "cell_type": "code",
   "execution_count": 92,
   "metadata": {
    "id": "A831KcfEOw_e"
   },
   "outputs": [
    {
     "name": "stdout",
     "output_type": "stream",
     "text": [
      "0.4505111111111111\n"
     ]
    }
   ],
   "source": [
    "y_pred_knn = model.predict(x_val)\n",
    "print(mean_absolute_error(y_val, y_pred_knn))\n",
    "mod['KNN'] = mean_absolute_error(y_val, y_pred_knn)"
   ]
  },
  {
   "cell_type": "markdown",
   "metadata": {
    "id": "yIm4n8jAOytN"
   },
   "source": [
    "#### (4) Random Forest"
   ]
  },
  {
   "cell_type": "code",
   "execution_count": 100,
   "metadata": {
    "id": "I08wZzKSOytN"
   },
   "outputs": [],
   "source": [
    "model = RandomForestRegressor(random_state=2022)"
   ]
  },
  {
   "cell_type": "code",
   "execution_count": 101,
   "metadata": {
    "id": "uwNjvnz6OytO"
   },
   "outputs": [
    {
     "data": {
      "text/plain": [
       "RandomForestRegressor(random_state=2022)"
      ]
     },
     "execution_count": 101,
     "metadata": {},
     "output_type": "execute_result"
    }
   ],
   "source": [
    "model.fit(x_train,y_train)"
   ]
  },
  {
   "cell_type": "code",
   "execution_count": 102,
   "metadata": {
    "id": "5xoWtpIhOytO"
   },
   "outputs": [
    {
     "name": "stdout",
     "output_type": "stream",
     "text": [
      "0.4090066666666667\n"
     ]
    }
   ],
   "source": [
    "y_pred_rf = model.predict(x_val)\n",
    "print(mean_absolute_error(y_val, y_pred_rf))\n",
    "mod['Random Forest'] = mean_absolute_error(y_val, y_pred_rf)"
   ]
  },
  {
   "cell_type": "code",
   "execution_count": 103,
   "metadata": {
    "id": "GS0fsPLsOytO"
   },
   "outputs": [
    {
     "data": {
      "image/png": "[encoded data removed]",
      "text/plain": [
       "<Figure size 432x288 with 1 Axes>"
      ]
     },
     "metadata": {
      "needs_background": "light"
     },
     "output_type": "display_data"
    }
   ],
   "source": [
    "plt.barh(y=list(x), width=model.feature_importances_)\n",
    "plt.show()\n",
    "# 이전 분석에 크게 중요한 특징이였던 집값과 초과통화시간 수입도 중요한 변수로 나왔지만, 핸드폰 가격이 중요 요인이라는\n",
    "# 결과가 도출되었으며, 핸드폰 가격은 이전 변수의 특징인 돈과 관련된 바로 돈이 이탈률과 매우 연관됨을 확인 할 수있다.\n",
    "# 또한 핸드폰가격이 이탈률에 영향을 미치는것으로 보아 최신기종을 사용하는 사람일수록 이탈률이 크다고 볼 수 있다."
   ]
  },
  {
   "cell_type": "markdown",
   "metadata": {
    "id": "95r7i5gXL6Lx"
   },
   "source": [
    "## 4.모델링2 : DL"
   ]
  },
  {
   "cell_type": "markdown",
   "metadata": {
    "id": "b9kRyQ6K6CIW"
   },
   "source": [
    "### 4.1 모델링을 위한 함수 불러오기"
   ]
  },
  {
   "cell_type": "code",
   "execution_count": 104,
   "metadata": {
    "id": "_BDNB7hM9_hz"
   },
   "outputs": [],
   "source": [
    "import tensorflow as tf\n",
    "from tensorflow import keras"
   ]
  },
  {
   "cell_type": "markdown",
   "metadata": {
    "id": "lL9BeX00MLgt"
   },
   "source": [
    "### 4.2 모델링\n"
   ]
  },
  {
   "cell_type": "code",
   "execution_count": 129,
   "metadata": {},
   "outputs": [
    {
     "data": {
      "text/plain": [
       "((12000, 17), (12000,))"
      ]
     },
     "execution_count": 129,
     "metadata": {},
     "output_type": "execute_result"
    }
   ],
   "source": [
    "x_train.shape, y_train.shape"
   ]
  },
  {
   "cell_type": "markdown",
   "metadata": {
    "id": "yAaMF07mHz_q"
   },
   "source": [
    "#### (1) 모델1"
   ]
  },
  {
   "cell_type": "code",
   "execution_count": 132,
   "metadata": {
    "id": "aA1Pm1oXMLgv"
   },
   "outputs": [
    {
     "name": "stdout",
     "output_type": "stream",
     "text": [
      "Model: \"model\"\n",
      "_________________________________________________________________\n",
      " Layer (type)                Output Shape              Param #   \n",
      "=================================================================\n",
      " input_1 (InputLayer)        [(None, 17)]              0         \n",
      "                                                                 \n",
      " dense (Dense)               (None, 512)               9216      \n",
      "                                                                 \n",
      " dense_1 (Dense)             (None, 256)               131328    \n",
      "                                                                 \n",
      " dense_2 (Dense)             (None, 128)               32896     \n",
      "                                                                 \n",
      " dense_3 (Dense)             (None, 1)                 129       \n",
      "                                                                 \n",
      "=================================================================\n",
      "Total params: 173,569\n",
      "Trainable params: 173,569\n",
      "Non-trainable params: 0\n",
      "_________________________________________________________________\n"
     ]
    }
   ],
   "source": [
    "keras.backend.clear_session()\n",
    "\n",
    "il = keras.layers.Input(shape=(17,))\n",
    "hl = keras.layers.Dense(512, activation='relu')(il)\n",
    "hl = keras.layers.Dense(256, activation='relu')(hl)\n",
    "hl = keras.layers.Dense(128, activation='relu')(hl)\n",
    "ol = keras.layers.Dense(1)(hl)\n",
    "\n",
    "model1 = keras.models.Model(il, ol)\n",
    "\n",
    "model1.compile(loss=keras.losses.mean_absolute_error, optimizer=keras.optimizers.Adam(learning_rate=0.01))\n",
    "\n",
    "model1.summary()\n",
    "\n",
    "# Functional API를 사용해 모델링을 하였으며, 히든레이어를 512, 256, 128 순으로 줄여나간 이유는 해당 문제는 이동통신\n",
    "# 고객의 이탈을 방지하기 위한 즉, 유지를 위한 해결안을 찾는 방향으로, 고객들이 이탈하는 원인중 핵심요소를 추출해\n",
    "# 내는 과정이므로, Hidden layer 를 거쳐 점차 특징을 줄여나가는 방향으로 해서 핵심 특징들만 추출하기 위함이다."
   ]
  },
  {
   "cell_type": "code",
   "execution_count": 107,
   "metadata": {},
   "outputs": [
    {
     "data": {
      "image/png": "[encoded data removed]",
      "text/plain": [
       "<IPython.core.display.Image object>"
      ]
     },
     "execution_count": 107,
     "metadata": {},
     "output_type": "execute_result"
    }
   ],
   "source": [
    "keras.utils.plot_model(model1, show_shapes=True)"
   ]
  },
  {
   "cell_type": "markdown",
   "metadata": {
    "id": "yAaMF07mHz_q"
   },
   "source": [
    "#### (2) 모델2"
   ]
  },
  {
   "cell_type": "code",
   "execution_count": 136,
   "metadata": {
    "id": "aA1Pm1oXMLgv"
   },
   "outputs": [
    {
     "name": "stdout",
     "output_type": "stream",
     "text": [
      "Model: \"sequential\"\n",
      "_________________________________________________________________\n",
      " Layer (type)                Output Shape              Param #   \n",
      "=================================================================\n",
      " dense (Dense)               (None, 1)                 18        \n",
      "                                                                 \n",
      "=================================================================\n",
      "Total params: 18\n",
      "Trainable params: 18\n",
      "Non-trainable params: 0\n",
      "_________________________________________________________________\n"
     ]
    }
   ],
   "source": [
    "keras.backend.clear_session()\n",
    "\n",
    "model2 = keras.models.Sequential()\n",
    "model2.add(keras.layers.Input(shape=(17,)))\n",
    "model2.add(keras.layers.Dense(1))\n",
    "model2.compile(loss = keras.losses.mean_absolute_error , optimizer = keras.optimizers.Adam(learning_rate=0.01)) \n",
    "model2.summary()\n",
    "\n",
    "# Sequential API를 사용한 모델2는 Dense나 Concat 등 다양한 방법을 사용해서 모델링도 할 수 있지만 가장 기초적인\n",
    "# 모델링을 수행해 보았다. 그리하여 이전 Dense를 사용하여 특징을 추출한 모델1과의 차이를 구분하기에 뚜렷한 지표가\n",
    "# 될 모델이라 생각해 해당 모델2를 구성하였다."
   ]
  },
  {
   "cell_type": "code",
   "execution_count": 110,
   "metadata": {},
   "outputs": [
    {
     "data": {
      "image/png": "[encoded data removed]",
      "text/plain": [
       "<IPython.core.display.Image object>"
      ]
     },
     "execution_count": 110,
     "metadata": {},
     "output_type": "execute_result"
    }
   ],
   "source": [
    "keras.utils.plot_model(model2, show_shapes=True)"
   ]
  },
  {
   "cell_type": "code",
   "execution_count": 112,
   "metadata": {},
   "outputs": [
    {
     "data": {
      "text/plain": [
       "Index(['INCOME', 'OVERAGE', 'HOUSE', 'HANDSET_PRICE',\n",
       "       'OVER_15MINS_CALLS_PER_MONTH', 'REPORTED_SATISFACTION_sat',\n",
       "       'REPORTED_SATISFACTION_unsat', 'REPORTED_SATISFACTION_very_sat',\n",
       "       'REPORTED_SATISFACTION_very_unsat', 'REPORTED_USAGE_LEVEL_high',\n",
       "       'REPORTED_USAGE_LEVEL_little', 'REPORTED_USAGE_LEVEL_very_high',\n",
       "       'REPORTED_USAGE_LEVEL_very_little',\n",
       "       'CONSIDERING_CHANGE_OF_PLAN_considering',\n",
       "       'CONSIDERING_CHANGE_OF_PLAN_never_thought',\n",
       "       'CONSIDERING_CHANGE_OF_PLAN_no', 'CONSIDERING_CHANGE_OF_PLAN_perhaps'],\n",
       "      dtype='object')"
      ]
     },
     "execution_count": 112,
     "metadata": {},
     "output_type": "execute_result"
    }
   ],
   "source": [
    "x_train.columns"
   ]
  },
  {
   "cell_type": "markdown",
   "metadata": {
    "id": "yAaMF07mHz_q"
   },
   "source": [
    "#### (3) 모델3"
   ]
  },
  {
   "cell_type": "code",
   "execution_count": 146,
   "metadata": {
    "id": "aA1Pm1oXMLgv"
   },
   "outputs": [],
   "source": [
    "x_train3 = x_train.loc[:,['INCOME', 'OVERAGE', 'HOUSE', 'HANDSET_PRICE']]\n",
    "x_test3 = x_test.loc[:,['INCOME', 'OVERAGE', 'HOUSE', 'HANDSET_PRICE']]\n",
    "\n",
    "x_etr3 = x_train.loc[:,['OVER_15MINS_CALLS_PER_MONTH', 'REPORTED_SATISFACTION_sat',\n",
    "       'REPORTED_SATISFACTION_unsat', 'REPORTED_SATISFACTION_very_sat',\n",
    "       'REPORTED_SATISFACTION_very_unsat', 'REPORTED_USAGE_LEVEL_high',\n",
    "       'REPORTED_USAGE_LEVEL_little', 'REPORTED_USAGE_LEVEL_very_high',\n",
    "       'REPORTED_USAGE_LEVEL_very_little',\n",
    "       'CONSIDERING_CHANGE_OF_PLAN_considering',\n",
    "       'CONSIDERING_CHANGE_OF_PLAN_never_thought',\n",
    "       'CONSIDERING_CHANGE_OF_PLAN_no', 'CONSIDERING_CHANGE_OF_PLAN_perhaps']]\n",
    "\n",
    "x_ete3 = x_test.loc[:,['OVER_15MINS_CALLS_PER_MONTH', 'REPORTED_SATISFACTION_sat',\n",
    "       'REPORTED_SATISFACTION_unsat', 'REPORTED_SATISFACTION_very_sat',\n",
    "       'REPORTED_SATISFACTION_very_unsat', 'REPORTED_USAGE_LEVEL_high',\n",
    "       'REPORTED_USAGE_LEVEL_little', 'REPORTED_USAGE_LEVEL_very_high',\n",
    "       'REPORTED_USAGE_LEVEL_very_little',\n",
    "       'CONSIDERING_CHANGE_OF_PLAN_considering',\n",
    "       'CONSIDERING_CHANGE_OF_PLAN_never_thought',\n",
    "       'CONSIDERING_CHANGE_OF_PLAN_no', 'CONSIDERING_CHANGE_OF_PLAN_perhaps']]"
   ]
  },
  {
   "cell_type": "code",
   "execution_count": 147,
   "metadata": {},
   "outputs": [
    {
     "data": {
      "text/plain": [
       "((12000, 17), (12000, 4), (12000, 13))"
      ]
     },
     "execution_count": 147,
     "metadata": {},
     "output_type": "execute_result"
    }
   ],
   "source": [
    "x_train.shape, x_train3.shape, x_etr3.shape"
   ]
  },
  {
   "cell_type": "code",
   "execution_count": 148,
   "metadata": {},
   "outputs": [
    {
     "name": "stdout",
     "output_type": "stream",
     "text": [
      "Model: \"model\"\n",
      "__________________________________________________________________________________________________\n",
      " Layer (type)                   Output Shape         Param #     Connected to                     \n",
      "==================================================================================================\n",
      " input_1 (InputLayer)           [(None, 4)]          0           []                               \n",
      "                                                                                                  \n",
      " input_2 (InputLayer)           [(None, 13)]         0           []                               \n",
      "                                                                                                  \n",
      " dense (Dense)                  (None, 256)          1280        ['input_1[0][0]']                \n",
      "                                                                                                  \n",
      " dense_1 (Dense)                (None, 256)          3584        ['input_2[0][0]']                \n",
      "                                                                                                  \n",
      " concatenate (Concatenate)      (None, 512)          0           ['dense[0][0]',                  \n",
      "                                                                  'dense_1[0][0]']                \n",
      "                                                                                                  \n",
      " dense_2 (Dense)                (None, 1)            513         ['concatenate[0][0]']            \n",
      "                                                                                                  \n",
      "==================================================================================================\n",
      "Total params: 5,377\n",
      "Trainable params: 5,377\n",
      "Non-trainable params: 0\n",
      "__________________________________________________________________________________________________\n"
     ]
    }
   ],
   "source": [
    "keras.backend.clear_session()\n",
    "\n",
    "il1 = keras.layers.Input(shape=(4,))\n",
    "hl1 = keras.layers.Dense(256, activation='relu')(il1)\n",
    "\n",
    "il2 = keras.layers.Input(shape=(13,))\n",
    "hl2 = keras.layers.Dense(256, activation='relu')(il2)\n",
    "\n",
    "cl = keras.layers.Concatenate()([hl1, hl2])\n",
    "ol = keras.layers.Dense(1)(cl)\n",
    "\n",
    "model3 = keras.models.Model([il1, il2], ol)\n",
    "\n",
    "model3.compile(loss=keras.losses.mean_absolute_error, optimizer=keras.optimizers.Adam(learning_rate=0.01))\n",
    "\n",
    "model3.summary()\n",
    "\n",
    "# 위의 모델링에서 각각 중요한 변수였던 핸드폰가격, 집값, 초과통화시간, 수입을 모아 따로 구성하여 모델링 하여 더 좋은\n",
    "# 모델이 될 수 있을것이라 판단해 진행하였다."
   ]
  },
  {
   "cell_type": "code",
   "execution_count": 143,
   "metadata": {},
   "outputs": [
    {
     "data": {
      "image/png": "[encoded data removed]",
      "text/plain": [
       "<IPython.core.display.Image object>"
      ]
     },
     "execution_count": 143,
     "metadata": {},
     "output_type": "execute_result"
    }
   ],
   "source": [
    "keras.utils.plot_model(model3, show_shapes=True)"
   ]
  },
  {
   "cell_type": "markdown",
   "metadata": {
    "id": "yAaMF07mHz_q"
   },
   "source": [
    "## 학습"
   ]
  },
  {
   "cell_type": "code",
   "execution_count": 125,
   "metadata": {},
   "outputs": [],
   "source": [
    "from tensorflow.keras.callbacks import EarlyStopping"
   ]
  },
  {
   "cell_type": "code",
   "execution_count": 126,
   "metadata": {
    "id": "aA1Pm1oXMLgv"
   },
   "outputs": [],
   "source": [
    "es = keras.callbacks.EarlyStopping(monitor='val_loss',\n",
    "                                   min_delta=0,\n",
    "                                   patience=5,\n",
    "                                   verbose=1,\n",
    "                                   restore_best_weights=True)"
   ]
  },
  {
   "cell_type": "code",
   "execution_count": 130,
   "metadata": {},
   "outputs": [
    {
     "data": {
      "text/plain": [
       "((12000, 17), (12000,))"
      ]
     },
     "execution_count": 130,
     "metadata": {},
     "output_type": "execute_result"
    }
   ],
   "source": [
    "x_train.shape, y_train.shape"
   ]
  },
  {
   "cell_type": "code",
   "execution_count": 133,
   "metadata": {},
   "outputs": [
    {
     "name": "stdout",
     "output_type": "stream",
     "text": [
      "Epoch 1/600\n",
      "319/319 [==============================] - 2s 4ms/step - loss: 0.4240 - val_loss: 0.4010\n",
      "Epoch 2/600\n",
      "319/319 [==============================] - 1s 4ms/step - loss: 0.3853 - val_loss: 0.3960\n",
      "Epoch 3/600\n",
      "319/319 [==============================] - 1s 4ms/step - loss: 0.3765 - val_loss: 0.3780\n",
      "Epoch 4/600\n",
      "319/319 [==============================] - 1s 4ms/step - loss: 0.3657 - val_loss: 0.3784\n",
      "Epoch 5/600\n",
      "319/319 [==============================] - 1s 4ms/step - loss: 0.3665 - val_loss: 0.3817\n",
      "Epoch 6/600\n",
      "319/319 [==============================] - 1s 4ms/step - loss: 0.3632 - val_loss: 0.3680\n",
      "Epoch 7/600\n",
      "319/319 [==============================] - 1s 4ms/step - loss: 0.3645 - val_loss: 0.3837\n",
      "Epoch 8/600\n",
      "319/319 [==============================] - 1s 4ms/step - loss: 0.3615 - val_loss: 0.3608\n",
      "Epoch 9/600\n",
      "319/319 [==============================] - 1s 4ms/step - loss: 0.3523 - val_loss: 0.3545\n",
      "Epoch 10/600\n",
      "319/319 [==============================] - 1s 4ms/step - loss: 0.3554 - val_loss: 0.3607\n",
      "Epoch 11/600\n",
      "319/319 [==============================] - 1s 4ms/step - loss: 0.3565 - val_loss: 0.3722\n",
      "Epoch 12/600\n",
      "319/319 [==============================] - 2s 5ms/step - loss: 0.3582 - val_loss: 0.3628\n",
      "Epoch 13/600\n",
      "319/319 [==============================] - 1s 4ms/step - loss: 0.3543 - val_loss: 0.3672\n",
      "Epoch 14/600\n",
      "314/319 [============================>.] - ETA: 0s - loss: 0.3561Restoring model weights from the end of the best epoch: 9.\n",
      "319/319 [==============================] - 1s 4ms/step - loss: 0.3546 - val_loss: 0.3641\n",
      "Epoch 14: early stopping\n"
     ]
    },
    {
     "data": {
      "text/plain": [
       "<keras.callbacks.History at 0x26d09d6bf40>"
      ]
     },
     "execution_count": 133,
     "metadata": {},
     "output_type": "execute_result"
    }
   ],
   "source": [
    "model1.fit(x_train, y_train, epochs=600, validation_split=0.15, verbose=1, callbacks=[es])"
   ]
  },
  {
   "cell_type": "code",
   "execution_count": 162,
   "metadata": {},
   "outputs": [
    {
     "name": "stdout",
     "output_type": "stream",
     "text": [
      "0.4866597585187604\n"
     ]
    }
   ],
   "source": [
    "y_pred_m1 = model1.predict(x_val)\n",
    "print(mean_absolute_error(y_test, y_pred_m1))\n",
    "mod['DLM1'] = mean_absolute_error(y_test, y_pred_m1)\n",
    "\n",
    "# 특징을 512 ~ 128까지 Dense를 거쳐 줄여나가는 과정이 기존의 randomforest, knn 등의 알고리즘을 사용한 모델링의 결과\n",
    "# 보다 떨어지는 성능이 도출되었다. 즉, 해당문제에서 특징을 줄여나가는 방법은 좋은 방법이 아니다."
   ]
  },
  {
   "cell_type": "code",
   "execution_count": 137,
   "metadata": {},
   "outputs": [
    {
     "name": "stdout",
     "output_type": "stream",
     "text": [
      "Epoch 1/600\n",
      "319/319 [==============================] - 1s 3ms/step - loss: 0.4628 - val_loss: 0.4193\n",
      "Epoch 2/600\n",
      "319/319 [==============================] - 1s 2ms/step - loss: 0.4162 - val_loss: 0.4219\n",
      "Epoch 3/600\n",
      "319/319 [==============================] - 1s 2ms/step - loss: 0.4150 - val_loss: 0.4179\n",
      "Epoch 4/600\n",
      "319/319 [==============================] - 1s 2ms/step - loss: 0.4138 - val_loss: 0.4135\n",
      "Epoch 5/600\n",
      "319/319 [==============================] - 1s 2ms/step - loss: 0.4136 - val_loss: 0.4145\n",
      "Epoch 6/600\n",
      "319/319 [==============================] - 1s 2ms/step - loss: 0.4140 - val_loss: 0.4173\n",
      "Epoch 7/600\n",
      "319/319 [==============================] - 1s 2ms/step - loss: 0.4135 - val_loss: 0.4115\n",
      "Epoch 8/600\n",
      "319/319 [==============================] - 1s 2ms/step - loss: 0.4141 - val_loss: 0.4128\n",
      "Epoch 9/600\n",
      "319/319 [==============================] - 1s 2ms/step - loss: 0.4130 - val_loss: 0.4131\n",
      "Epoch 10/600\n",
      "319/319 [==============================] - 1s 2ms/step - loss: 0.4131 - val_loss: 0.4233\n",
      "Epoch 11/600\n",
      "319/319 [==============================] - 1s 2ms/step - loss: 0.4140 - val_loss: 0.4119\n",
      "Epoch 12/600\n",
      "291/319 [==========================>...] - ETA: 0s - loss: 0.4132Restoring model weights from the end of the best epoch: 7.\n",
      "319/319 [==============================] - 1s 2ms/step - loss: 0.4139 - val_loss: 0.4140\n",
      "Epoch 12: early stopping\n"
     ]
    },
    {
     "data": {
      "text/plain": [
       "<keras.callbacks.History at 0x26d0c014550>"
      ]
     },
     "execution_count": 137,
     "metadata": {},
     "output_type": "execute_result"
    }
   ],
   "source": [
    "model2.fit(x_train, y_train, epochs=600, validation_split=0.15, verbose=1, callbacks=[es])"
   ]
  },
  {
   "cell_type": "code",
   "execution_count": 163,
   "metadata": {},
   "outputs": [
    {
     "name": "stdout",
     "output_type": "stream",
     "text": [
      "0.502429569674035\n"
     ]
    }
   ],
   "source": [
    "y_pred_m2 = model2.predict(x_val)\n",
    "print(mean_absolute_error(y_test, y_pred_m2))\n",
    "mod['DLM2'] = mean_absolute_error(y_test, y_pred_m2)\n",
    "\n",
    "# 기존의 모델링을 설계할때 예측한 바와 다르게 model1과 차이가 뚜렷하게 구분되지 않았다. 가장 기초적인 방법을 통한\n",
    "# 모델링이다 보니 knn이나 logistic regression 등 과 어느정도 유사하지만 보다 못한 결과가 도출되었다."
   ]
  },
  {
   "cell_type": "code",
   "execution_count": null,
   "metadata": {},
   "outputs": [],
   "source": [
    "x_train3.shape, x_etr3.shape"
   ]
  },
  {
   "cell_type": "code",
   "execution_count": 149,
   "metadata": {},
   "outputs": [
    {
     "name": "stdout",
     "output_type": "stream",
     "text": [
      "Epoch 1/600\n",
      "319/319 [==============================] - 1s 3ms/step - loss: 0.4103 - val_loss: 0.4114\n",
      "Epoch 2/600\n",
      "319/319 [==============================] - 1s 2ms/step - loss: 0.3936 - val_loss: 0.3820\n",
      "Epoch 3/600\n",
      "319/319 [==============================] - 1s 2ms/step - loss: 0.3826 - val_loss: 0.3811\n",
      "Epoch 4/600\n",
      "319/319 [==============================] - 1s 2ms/step - loss: 0.3794 - val_loss: 0.3877\n",
      "Epoch 5/600\n",
      "319/319 [==============================] - 1s 2ms/step - loss: 0.3717 - val_loss: 0.3773\n",
      "Epoch 6/600\n",
      "319/319 [==============================] - 1s 2ms/step - loss: 0.3733 - val_loss: 0.3718\n",
      "Epoch 7/600\n",
      "319/319 [==============================] - 1s 2ms/step - loss: 0.3689 - val_loss: 0.3773\n",
      "Epoch 8/600\n",
      "319/319 [==============================] - 1s 2ms/step - loss: 0.3686 - val_loss: 0.3787\n",
      "Epoch 9/600\n",
      "319/319 [==============================] - 1s 2ms/step - loss: 0.3668 - val_loss: 0.3771\n",
      "Epoch 10/600\n",
      "319/319 [==============================] - 1s 2ms/step - loss: 0.3657 - val_loss: 0.3713\n",
      "Epoch 11/600\n",
      "319/319 [==============================] - 1s 2ms/step - loss: 0.3642 - val_loss: 0.3678\n",
      "Epoch 12/600\n",
      "319/319 [==============================] - 1s 2ms/step - loss: 0.3642 - val_loss: 0.3731\n",
      "Epoch 13/600\n",
      "319/319 [==============================] - 1s 3ms/step - loss: 0.3625 - val_loss: 0.3713\n",
      "Epoch 14/600\n",
      "319/319 [==============================] - 1s 2ms/step - loss: 0.3617 - val_loss: 0.3680\n",
      "Epoch 15/600\n",
      "319/319 [==============================] - 1s 2ms/step - loss: 0.3621 - val_loss: 0.3647\n",
      "Epoch 16/600\n",
      "319/319 [==============================] - 1s 2ms/step - loss: 0.3629 - val_loss: 0.3787\n",
      "Epoch 17/600\n",
      "319/319 [==============================] - 1s 2ms/step - loss: 0.3603 - val_loss: 0.3575\n",
      "Epoch 18/600\n",
      "319/319 [==============================] - 1s 2ms/step - loss: 0.3618 - val_loss: 0.3623\n",
      "Epoch 19/600\n",
      "319/319 [==============================] - 1s 3ms/step - loss: 0.3611 - val_loss: 0.3602\n",
      "Epoch 20/600\n",
      "319/319 [==============================] - 1s 2ms/step - loss: 0.3597 - val_loss: 0.3612\n",
      "Epoch 21/600\n",
      "319/319 [==============================] - 1s 2ms/step - loss: 0.3567 - val_loss: 0.3608\n",
      "Epoch 22/600\n",
      "301/319 [===========================>..] - ETA: 0s - loss: 0.3574Restoring model weights from the end of the best epoch: 17.\n",
      "319/319 [==============================] - 1s 2ms/step - loss: 0.3584 - val_loss: 0.3678\n",
      "Epoch 22: early stopping\n"
     ]
    },
    {
     "data": {
      "text/plain": [
       "<keras.callbacks.History at 0x26d0d5faf10>"
      ]
     },
     "execution_count": 149,
     "metadata": {},
     "output_type": "execute_result"
    }
   ],
   "source": [
    "model3.fit([x_train3, x_etr3], y_train , epochs=600, validation_split=0.15, verbose=1, callbacks=[es])"
   ]
  },
  {
   "cell_type": "code",
   "execution_count": 164,
   "metadata": {},
   "outputs": [
    {
     "name": "stdout",
     "output_type": "stream",
     "text": [
      "0.3502485544246932\n"
     ]
    }
   ],
   "source": [
    "y_pred_m3 = model3.predict([x_test3, x_ete3])\n",
    "print(mean_absolute_error(y_test, y_pred_m3))\n",
    "mod['DLM3'] = mean_absolute_error(y_test, y_pred_m3)\n",
    "\n",
    "# 중요 feature들로 나눠서 진행한 모델링이 기존의 다른 모델링의 결과에 비해 월등히 뛰어난 결과가 도출되었다."
   ]
  },
  {
   "cell_type": "markdown",
   "metadata": {
    "id": "U4UL4ynYL6Ly"
   },
   "source": [
    "## 5.성능 비교"
   ]
  },
  {
   "cell_type": "code",
   "execution_count": 177,
   "metadata": {},
   "outputs": [
    {
     "data": {
      "text/plain": [
       "{'Linear Regression': 0.44184137377344107,\n",
       " 'Decision Tree': 0.4048562440461869,\n",
       " 'KNN': 0.4505111111111111,\n",
       " 'Random Forest': 0.4090066666666667,\n",
       " 'DLM1': 0.4866597585187604,\n",
       " 'DLM2': 0.502429569674035,\n",
       " 'DLM3': 0.3502485544246932}"
      ]
     },
     "execution_count": 177,
     "metadata": {},
     "output_type": "execute_result"
    }
   ],
   "source": [
    "mod \n",
    "# 평가지표로 mean_absolute_error 를 선정한 이유는 평균으로부터 어느정도 떨어진지 절대값을 통해 확인이 가능해 어떠한\n",
    "# 요인이 고객이탈에 어느정도 떨어져 있는지 정확하게 판단할 수 있는 근거로써 사용할 수 있기에 평가지표 를 mae를 사용\n",
    "# 하였다."
   ]
  },
  {
   "cell_type": "code",
   "execution_count": 168,
   "metadata": {},
   "outputs": [
    {
     "data": {
      "text/plain": [
       "(dict_keys(['Linear Regression', 'Decision Tree', 'KNN', 'Random Forest', 'DLM1', 'DLM2', 'DLM3']),\n",
       " dict_values([0.44184137377344107, 0.4048562440461869, 0.4505111111111111, 0.4090066666666667, 0.4866597585187604, 0.502429569674035, 0.3502485544246932]))"
      ]
     },
     "execution_count": 168,
     "metadata": {},
     "output_type": "execute_result"
    }
   ],
   "source": [
    "mod.keys(), mod.values()"
   ]
  },
  {
   "cell_type": "code",
   "execution_count": 176,
   "metadata": {},
   "outputs": [
    {
     "data": {
      "image/png": "[encoded data removed]",
      "text/plain": [
       "<Figure size 720x360 with 1 Axes>"
      ]
     },
     "metadata": {
      "needs_background": "light"
     },
     "output_type": "display_data"
    }
   ],
   "source": [
    "plt.figure(figsize=(10,5))\n",
    "plt.bar(mod.keys(),mod.values())\n",
    "plt.show()\n",
    "\n",
    "# 해당 그래프로 확인이 가능하듯 핵심 요소를 따로 구분하여 진행한 딥러닝 모델이 가장 성능이 좋게 나왔다.\n",
    "# 즉 핵심 feature로 선정한 수입, 핸드폰가격, 집값, 초과통화시간이 고객이탈에 큰 영향을 주는것으로 증명이 되었다."
   ]
  }
 ],
 "metadata": {
  "colab": {
   "collapsed_sections": [],
   "name": "과제3. 이동통신 고객 이탈 예측.ipynb",
   "provenance": [],
   "toc_visible": true
  },
  "kernelspec": {
   "display_name": "Python 3 (ipykernel)",
   "language": "python",
   "name": "python3"
  },
  "language_info": {
   "codemirror_mode": {
    "name": "ipython",
    "version": 3
   },
   "file_extension": ".py",
   "mimetype": "text/x-python",
   "name": "python",
   "nbconvert_exporter": "python",
   "pygments_lexer": "ipython3",
   "version": "3.9.13"
  }
 },
 "nbformat": 4,
 "nbformat_minor": 4
}
